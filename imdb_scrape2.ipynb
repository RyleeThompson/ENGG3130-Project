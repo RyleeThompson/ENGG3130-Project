{
 "cells": [
  {
   "cell_type": "code",
   "execution_count": 188,
   "metadata": {},
   "outputs": [],
   "source": [
    "from requests import get\n",
    "import pandas as pd\n",
    "from bs4 import BeautifulSoup\n",
    "import numpy as np\n",
    "import matplotlib.pyplot as plt\n",
    "import seaborn as sns\n",
    "\n",
    "from numpy import array\n",
    "from numpy import argmax\n",
    "#import keras\n",
    "#from keras.utils import to_categorical"
   ]
  },
  {
   "cell_type": "markdown",
   "metadata": {},
   "source": [
    "Following code gets data for a selected number of movies released between 1934-01-01 and 2017-12-31, ordered by popularity (ordered by IMDB)"
   ]
  },
  {
   "cell_type": "code",
   "execution_count": 2,
   "metadata": {},
   "outputs": [
    {
     "name": "stdout",
     "output_type": "stream",
     "text": [
      "1950 oscar winners (acting) are: {'José Ferrer': ('Cyrano de Bergerac', 1), 'George Sanders': ('All about Eve', 1), 'Judy Holliday': ('Born Yesterday', 1), 'Josephine Hull': ('Harvey', 1)}\n",
      "1950 oscar nominees (acting) are: {'Kirk Douglas': ('Champion', 1), 'Gregory Peck': (\"Twelve O'Clock High\", 1), 'Richard Todd': ('The Hasty Heart', 1), 'John Wayne': ('Sands of Iwo Jima', 1), 'John Ireland': (\"All the King's Men\", 1), 'Arthur Kennedy': ('Champion', 1), 'Ralph Richardson': ('The Heiress', 1), 'James Whitmore': ('Battleground', 1), 'Jeanne Crain': ('Pinky', 1), 'Susan Hayward': ('My Foolish Heart', 1), 'Deborah Kerr': ('Edward, My Son', 1), 'Loretta Young': ('Come to the Stable', 1), 'Ethel Barrymore': ('Pinky', 1), 'Celeste Holm': ('Come to the Stable', 1), 'Elsa Lanchester': ('Come to the Stable', 1), 'Ethel Waters': ('Pinky', 1)}\n",
      "1950 oscar winners (directing) are: {'Joseph L. Mankiewicz': ('A Letter to Three Wives ', 1)}\n",
      "1950 oscar nominees (directing) are: {'Robert Rossen': (\"All the King's Men \", 1), 'William A. Wellman': ('Battleground ', 1), 'Carol Reed': ('The Fallen Idol ', 1), 'William Wyler': ('The Heiress ', 1)}\n",
      "1950 oscar winners (movie) are: {'Daybreak in Udi ': 1, 'A Chance to Live ': 1, 'So Much for So Little ': 1, \"All the King's Men \": 1, 'For Scent-Imental Reasons ': 1, 'Aquatic House-Party ': 1}\n",
      "1950 oscar nominees (movie) are: {'Kenji Comes Home ': 1, '1848': 1, 'The Rising Tide ': 1, 'Battleground ': 1, 'The Heiress ': 1, 'A Letter to Three Wives ': 1, \"Twelve O'Clock High \": 1, 'Canary Row ': 1, 'Hatch Up Your Troubles ': 1, 'The Magic Fluke ': 1, 'Toy Tinkers ': 1, 'Roller Derby Girl ': 1, \"So You Think You're Not Guilty \": 1, 'Spills and Chills ': 1, 'Water Trix ': 1}\n",
      "1950 oscar winners (other) are: {'The Heiress ': 3, 'Little Women ': 1, 'Battleground ': 2, 'She Wore a Yellow Ribbon ': 1, 'The Adventures of Don Juan ': 1, 'Champion ': 1, 'On the Town ': 1, '\"Baby, It\\'s Cold Outside\" from Neptune\\'s Daughter': 1, 'Van Gogh ': 1, \"Twelve O'Clock High \": 1, 'Mighty Joe Young ': 1, 'The Stratton Story ': 1, 'A Letter to Three Wives ': 1, 'The Bicycle Thief': 1, 'Bobby Driscoll': 1, 'Fred Astaire': 1, 'Cecil B. DeMille': 1, 'Jean Hersholt': 1}\n",
      "1950 oscar nominees (other) are: {'Come to the Stable ': 3, 'Madame Bovary ': 1, 'The Adventures of Don Juan ': 1, 'Saraband ': 1, 'Champion ': 3, 'The Heiress ': 1, 'Prince of Foxes ': 2, 'The Barkleys of Broadway ': 1, 'Jolson Sings Again ': 3, 'Little Women ': 1, 'Sand ': 1, 'Mother Is a Freshman ': 1, \"All the King's Men \": 2, 'Battleground ': 1, 'Sands of Iwo Jima ': 3, 'The Window ': 1, 'Beyond the Forest ': 1, 'Look for the Silver Lining ': 1, '\"It\\'s A Great Feeling\" from It\\'s a Great Feeling': 1, '\"Lavender Blue\" from So Dear to My Heart': 1, '\"My Foolish Heart\" from My Foolish Heart': 1, '\"Through A Long And Sleepless Night\" from Come to the Stable': 1, 'The Boy and the Eagle ': 1, 'Chase of Death ': 1, 'The Grass Is Always Greener ': 1, 'Snow Carnival ': 1, 'Once More, My Darling ': 1, 'Tulsa ': 1, 'It Happens Every Spring ': 1, 'White Heat ': 1, 'The Bicycle Thief ': 1, 'The Fallen Idol ': 1, 'Paisan ': 1, 'Passport to Pimlico ': 1, 'The Quiet One ': 1}\n"
     ]
    },
    {
     "data": {
      "text/plain": [
       "{'Coco': 1,\n",
       " 'The Shape of Water': 2,\n",
       " 'Blade Runner 2049': 2,\n",
       " 'Get Out': 1,\n",
       " 'Call Me by Your Name': 1,\n",
       " 'The Silent Child': 1,\n",
       " 'Dunkirk': 3,\n",
       " 'Dear Basketball': 1,\n",
       " 'A Fantastic Woman': 1,\n",
       " 'Phantom Thread': 1,\n",
       " 'Darkest Hour': 1}"
      ]
     },
     "execution_count": 2,
     "metadata": {},
     "output_type": "execute_result"
    }
   ],
   "source": [
    "actorAwards = ['Actor', 'Actor in a Supporting Role', 'Actress', 'Actress in a Supporting Role', 'Actor in a Leading Role', \n",
    "               'Actress in a Leading Role']\n",
    "#Awards that can be received directly by an actor/actress\n",
    "\n",
    "directorAwards = ['Directing'] #For this dataset that name of the director is in the 'Film' category\n",
    "#Awards that can be received directly by a director\n",
    "\n",
    "movieAwards = ['Best Motion Picture', 'Outstanding Motion Picture', 'Documentary', 'Documentary (Feature)', \n",
    "               'Documentary (Short Subject)', 'Short Subject (Cartoon)', 'Short Subject (One Reel)',\n",
    "               'Short Film (Animated)', 'Short Film (Live Action)', 'Best Picture', 'Animated Feature Film'] #Movie name is in the 'name' category\n",
    "#Awards that directors and actors can directly influence\n",
    "\n",
    "#Awards like writing, screenplay, production, etc are saved under other awards as the actor and director do not\n",
    "#influence them as directly (or at all) as the ones above\n",
    "\n",
    "OscarRead = pd.read_csv('OscarDatabase.csv') #read the database\n",
    "yearCSV = OscarRead[\"Year\"] #The year the movie was released\n",
    "awardCSV = OscarRead[\"Award\"] #The name of the award received/nominated for\n",
    "winnerCSV = OscarRead[\"Winner\"] #If the entry won or not\n",
    "\n",
    "resultsCSV = winnerCSV.copy() #Create a copy to edit\n",
    "resultsCSV[resultsCSV != 1] = 0 #Original CSV has a '1' for winner, and NaN for a nomination - convert NaN to '0'\n",
    "\n",
    "nameCSV = OscarRead[\"Name\"] \n",
    "filmCSV = OscarRead[\"Film\"]\n",
    "\n",
    "win = 1\n",
    "nomination = 0\n",
    "\n",
    "def getDict(awards, result = win, name = nameCSV, film = filmCSV, starAwards = True, otherAwards = False):\n",
    "    \"\"\"awards = list containing awards interested in.\n",
    "       nameOrFilm = column that contains the actor/director name (different for different awards)\n",
    "       Returns a new nested dictionary where the outside key is \n",
    "       a year, and the inside key is the name of actor/film/director\n",
    "       who received a nomination or won an award in the list\n",
    "       for the years 1935-2016\"\"\"\n",
    "    \n",
    "    Dict = {}\n",
    "    for i in range(len(yearCSV)):\n",
    "        if otherAwards == False and awardCSV[i] not in awards or resultsCSV[i] != result:\n",
    "            continue\n",
    "        elif otherAwards == True and awardCSV[i] in awards or resultsCSV[i] != result:\n",
    "            continue\n",
    "        if starAwards == False:\n",
    "            try:\n",
    "                try:\n",
    "                    Dict[yearCSV[i] + 1][name[i]] += 1 #If the movie wins multiple awards in a year\n",
    "                except:\n",
    "                    Dict[yearCSV[i] + 1][name[i]] = 1 #Set the value for movie to one if the year is already in the dictionary\n",
    "            except:\n",
    "                Dict[yearCSV[i] + 1] = {} #if year is not in dictionary yet then create it\n",
    "                Dict[yearCSV[i] + 1][name[i]] = 1 #set the value to one\n",
    "                #Above code uses year + 1 for the key as the original database has the release year of the movie stored, \n",
    "                #not the year of the oscars\n",
    "        else:\n",
    "            try:\n",
    "                try:\n",
    "                    Dict[yearCSV[i] + 1][name[i]][1] += 1\n",
    "                except:\n",
    "                    Dict[yearCSV[i] + 1][name[i]] = film[i], 1\n",
    "            except:\n",
    "                Dict[yearCSV[i] + 1] = {}\n",
    "                Dict[yearCSV[i] + 1][name[i]] = film[i], 1            \n",
    "    return Dict\n",
    "#Following dictionaries have data for 1935-2016\n",
    "#If a movie/actor/director wins an award, it is only saved as a winner and will not have an entry for the nomination\n",
    "#it received for that award\n",
    "OscarActorWinners = getDict(actorAwards)\n",
    "OscarActorNoms = getDict(actorAwards, nomination)\n",
    "OscarDirWinners = getDict(directorAwards, name = filmCSV, film = nameCSV)\n",
    "OscarDirNoms = getDict(directorAwards, nomination, name = filmCSV, film = nameCSV)\n",
    "movieWinners = getDict(movieAwards, starAwards = False)\n",
    "movieNoms = getDict(movieAwards, nomination, starAwards = False)\n",
    "otherAwardWinners = getDict(actorAwards + movieAwards + directorAwards, starAwards = False, otherAwards = True)\n",
    "otherAwardNoms = getDict(actorAwards + movieAwards + directorAwards, nomination, starAwards = False, otherAwards = True)\n",
    "\n",
    "print(\"1950 oscar winners (acting) are:\", OscarActorWinners[1951])\n",
    "print(\"1950 oscar nominees (acting) are:\", OscarActorNoms[1950])\n",
    "print(\"1950 oscar winners (directing) are:\", OscarDirWinners[1950])\n",
    "print(\"1950 oscar nominees (directing) are:\", OscarDirNoms[1950])\n",
    "print(\"1950 oscar winners (movie) are:\", movieWinners[1950])\n",
    "print(\"1950 oscar nominees (movie) are:\", movieNoms[1950])\n",
    "print(\"1950 oscar winners (other) are:\", otherAwardWinners[1950])\n",
    "print(\"1950 oscar nominees (other) are:\", otherAwardNoms[1950])\n",
    "\n",
    "otherAwardWinners[2018]"
   ]
  },
  {
   "cell_type": "code",
   "execution_count": 3,
   "metadata": {},
   "outputs": [
    {
     "data": {
      "text/plain": [
       "'Darkest Hour'"
      ]
     },
     "execution_count": 3,
     "metadata": {},
     "output_type": "execute_result"
    }
   ],
   "source": [
    "OscarActorWinners[2018]['Gary Oldman'][0] #Gary won an oscar for his role in Darkest Hour"
   ]
  },
  {
   "cell_type": "code",
   "execution_count": 4,
   "metadata": {},
   "outputs": [
    {
     "name": "stdout",
     "output_type": "stream",
     "text": [
      "1\n",
      "2\n"
     ]
    },
    {
     "data": {
      "text/plain": [
       "{'Clark Gable': 1,\n",
       " 'Claudette Colbert': 1,\n",
       " 'Victor McLaglen': 1,\n",
       " 'Bette Davis': 2,\n",
       " 'Paul Muni': 1,\n",
       " 'Walter Brennan': 3,\n",
       " 'Luise Rainer': 2,\n",
       " 'Gale Sondergaard': 1,\n",
       " 'Spencer Tracy': 2,\n",
       " 'Joseph Schildkraut': 1,\n",
       " 'Alice Brady': 1,\n",
       " 'Fay Bainter': 1,\n",
       " 'Robert Donat': 1,\n",
       " 'Thomas Mitchell': 1,\n",
       " 'Vivien Leigh': 2,\n",
       " 'Hattie McDaniel': 1,\n",
       " 'James Stewart': 1,\n",
       " 'Ginger Rogers': 1,\n",
       " 'Jane Darwell': 1,\n",
       " 'Gary Cooper': 2,\n",
       " 'Donald Crisp': 1,\n",
       " 'Joan Fontaine': 1,\n",
       " 'Mary Astor': 1,\n",
       " 'James Cagney': 1,\n",
       " 'Van Heflin': 1,\n",
       " 'Greer Garson': 1,\n",
       " 'Teresa Wright': 1,\n",
       " 'Paul Lukas': 1,\n",
       " 'Charles Coburn': 1,\n",
       " 'Jennifer Jones': 1,\n",
       " 'Katina Paxinou': 1,\n",
       " 'Bing Crosby': 1,\n",
       " 'Barry Fitzgerald': 1,\n",
       " 'Ingrid Bergman': 3,\n",
       " 'Ethel Barrymore': 1,\n",
       " 'Ray Milland': 1,\n",
       " 'James Dunn': 1,\n",
       " 'Joan Crawford': 1,\n",
       " 'Anne Revere': 1,\n",
       " 'Fredric March': 1,\n",
       " 'Harold Russell': 1,\n",
       " 'Olivia de Havilland': 2,\n",
       " 'Anne Baxter': 1,\n",
       " 'Ronald Colman': 1,\n",
       " 'Edmund Gwenn': 1,\n",
       " 'Loretta Young': 1,\n",
       " 'Celeste Holm': 1,\n",
       " 'Laurence Olivier': 1,\n",
       " 'Walter Huston': 1,\n",
       " 'Jane Wyman': 1,\n",
       " 'Claire Trevor': 1,\n",
       " 'Broderick Crawford': 1,\n",
       " 'Dean Jagger': 1,\n",
       " 'Mercedes McCambridge': 1,\n",
       " 'José Ferrer': 1,\n",
       " 'George Sanders': 1,\n",
       " 'Judy Holliday': 1,\n",
       " 'Josephine Hull': 1,\n",
       " 'Humphrey Bogart': 1,\n",
       " 'Karl Malden': 1,\n",
       " 'Kim Hunter': 1,\n",
       " 'Anthony Quinn': 2,\n",
       " 'Shirley Booth': 1,\n",
       " 'Gloria Grahame': 1,\n",
       " 'William Holden': 1,\n",
       " 'Frank Sinatra': 1,\n",
       " 'Audrey Hepburn': 1,\n",
       " 'Donna Reed': 1,\n",
       " 'Marlon Brando': 2,\n",
       " \"Edmond O'Brien\": 1,\n",
       " 'Grace Kelly': 1,\n",
       " 'Eva Marie Saint': 1,\n",
       " 'Ernest Borgnine': 1,\n",
       " 'Jack Lemmon': 2,\n",
       " 'Anna Magnani': 1,\n",
       " 'Jo Van Fleet': 1,\n",
       " 'Yul Brynner': 1,\n",
       " 'Dorothy Malone': 1,\n",
       " 'Alec Guinness': 1,\n",
       " 'Red Buttons': 1,\n",
       " 'Joanne Woodward': 1,\n",
       " 'Miyoshi Umeki': 1,\n",
       " 'David Niven': 1,\n",
       " 'Burl Ives': 1,\n",
       " 'Susan Hayward': 1,\n",
       " 'Wendy Hiller': 1,\n",
       " 'Charlton Heston': 1,\n",
       " 'Hugh Griffith': 1,\n",
       " 'Simone Signoret': 1,\n",
       " 'Shelley Winters': 2,\n",
       " 'Burt Lancaster': 1,\n",
       " 'Peter Ustinov': 2,\n",
       " 'Elizabeth Taylor': 2,\n",
       " 'Shirley Jones': 1,\n",
       " 'Maximilian Schell': 1,\n",
       " 'George Chakiris': 1,\n",
       " 'Sophia Loren': 1,\n",
       " 'Rita Moreno': 1,\n",
       " 'Gregory Peck': 1,\n",
       " 'Ed Begley': 1,\n",
       " 'Anne Bancroft': 1,\n",
       " 'Patty Duke': 1,\n",
       " 'Sidney Poitier': 1,\n",
       " 'Melvyn Douglas': 2,\n",
       " 'Patricia Neal': 1,\n",
       " 'Margaret Rutherford': 1,\n",
       " 'Rex Harrison': 1,\n",
       " 'Julie Andrews': 1,\n",
       " 'Lila Kedrova': 1,\n",
       " 'Lee Marvin': 1,\n",
       " 'Martin Balsam': 1,\n",
       " 'Julie Christie': 1,\n",
       " 'Paul Scofield': 1,\n",
       " 'Walter Matthau': 1,\n",
       " 'Sandy Dennis': 1,\n",
       " 'Rod Steiger': 1,\n",
       " 'George Kennedy': 1,\n",
       " 'Katharine Hepburn': 3,\n",
       " 'Estelle Parsons': 1,\n",
       " 'Cliff Robertson': 1,\n",
       " 'Jack Albertson': 1,\n",
       " 'Barbra Streisand': 1,\n",
       " 'Ruth Gordon': 1,\n",
       " 'John Wayne': 1,\n",
       " 'Gig Young': 1,\n",
       " 'Maggie Smith': 2,\n",
       " 'Goldie Hawn': 1,\n",
       " 'George C. Scott': 1,\n",
       " 'John Mills': 1,\n",
       " 'Glenda Jackson': 2,\n",
       " 'Helen Hayes': 1,\n",
       " 'Sally Kellerman': 1,\n",
       " 'Gene Hackman': 2,\n",
       " 'Ben Johnson': 1,\n",
       " 'Jane Fonda': 2,\n",
       " 'Cloris Leachman': 1,\n",
       " 'Joel Grey': 1,\n",
       " 'Liza Minnelli': 1,\n",
       " 'Eileen Heckart': 1,\n",
       " 'John Houseman': 1,\n",
       " \"Tatum O'Neal\": 1,\n",
       " 'Art Carney': 1,\n",
       " 'Robert De Niro': 2,\n",
       " 'Ellen Burstyn': 1,\n",
       " 'Jack Nicholson': 3,\n",
       " 'George Burns': 1,\n",
       " 'Louise Fletcher': 1,\n",
       " 'Lee Grant': 1,\n",
       " 'Peter Finch': 1,\n",
       " 'Jason Robards': 2,\n",
       " 'Faye Dunaway': 1,\n",
       " 'Beatrice Straight': 1,\n",
       " 'Richard Dreyfuss': 1,\n",
       " 'Diane Keaton': 1,\n",
       " 'Vanessa Redgrave': 1,\n",
       " 'Jon Voight': 1,\n",
       " 'Christopher Walken': 1,\n",
       " 'Dustin Hoffman': 2,\n",
       " 'Sally Field': 2,\n",
       " 'Meryl Streep': 3,\n",
       " 'Timothy Hutton': 1,\n",
       " 'Sissy Spacek': 1,\n",
       " 'Mary Steenburgen': 1,\n",
       " 'Henry Fonda': 1,\n",
       " 'John Gielgud': 1,\n",
       " 'Maureen Stapleton': 1,\n",
       " 'Ben Kingsley': 1,\n",
       " 'Louis Gossett, Jr.': 1,\n",
       " 'Jessica Lange': 2,\n",
       " 'Robert Duvall': 1,\n",
       " 'Shirley MacLaine': 1,\n",
       " 'Linda Hunt': 1,\n",
       " 'F. Murray Abraham': 1,\n",
       " 'Haing S. Ngor': 1,\n",
       " 'Peggy Ashcroft': 1,\n",
       " 'William Hurt': 1,\n",
       " 'Don Ameche': 1,\n",
       " 'Geraldine Page': 1,\n",
       " 'Anjelica Huston': 1,\n",
       " 'Paul Newman': 1,\n",
       " 'Michael Caine': 2,\n",
       " 'Marlee Matlin': 1,\n",
       " 'Dianne Wiest': 2,\n",
       " 'Michael Douglas': 1,\n",
       " 'Sean Connery': 1,\n",
       " 'Cher': 1,\n",
       " 'Olympia Dukakis': 1,\n",
       " 'Kevin Kline': 1,\n",
       " 'Jodie Foster': 2,\n",
       " 'Geena Davis': 1,\n",
       " 'Daniel Day Lewis': 1,\n",
       " 'Denzel Washington': 2,\n",
       " 'Jessica Tandy': 1,\n",
       " 'Brenda Fricker': 1,\n",
       " 'Jeremy Irons': 1,\n",
       " 'Joe Pesci': 1,\n",
       " 'Kathy Bates': 1,\n",
       " 'Whoopi Goldberg': 1,\n",
       " 'Anthony Hopkins': 1,\n",
       " 'Jack Palance': 1,\n",
       " 'Mercedes Ruehl': 1,\n",
       " 'Al Pacino': 1,\n",
       " 'Emma Thompson': 1,\n",
       " 'Marisa Tomei': 1,\n",
       " 'Tom Hanks': 2,\n",
       " 'Tommy Lee Jones': 1,\n",
       " 'Holly Hunter': 1,\n",
       " 'Anna Paquin': 1,\n",
       " 'Martin Landau': 1,\n",
       " 'Nicolas Cage': 1,\n",
       " 'Kevin Spacey': 2,\n",
       " 'Susan Sarandon': 1,\n",
       " 'Mira Sorvino': 1,\n",
       " 'Geoffrey Rush': 1,\n",
       " 'Cuba Gooding, Jr.': 1,\n",
       " 'Frances McDormand': 2,\n",
       " 'Juliette Binoche': 1,\n",
       " 'Robin Williams': 1,\n",
       " 'Helen Hunt': 1,\n",
       " 'Kim Basinger': 1,\n",
       " 'Roberto Benigni': 1,\n",
       " 'James Coburn': 1,\n",
       " 'Gwyneth Paltrow': 1,\n",
       " 'Judi Dench': 1,\n",
       " 'Hilary Swank': 2,\n",
       " 'Angelina Jolie': 1,\n",
       " 'Russell Crowe': 1,\n",
       " 'Benicio Del Toro': 1,\n",
       " 'Julia Roberts': 1,\n",
       " 'Marcia Gay Harden': 1,\n",
       " 'Jim Broadbent': 1,\n",
       " 'Halle Berry': 1,\n",
       " 'Jennifer Connelly': 1,\n",
       " 'Adrien Brody': 1,\n",
       " 'Chris Cooper': 1,\n",
       " 'Nicole Kidman': 1,\n",
       " 'Catherine Zeta-Jones': 1,\n",
       " 'Sean Penn': 2,\n",
       " 'Tim Robbins': 1,\n",
       " 'Charlize Theron': 1,\n",
       " 'Renée Zellweger': 1,\n",
       " 'Jamie Foxx': 1,\n",
       " 'Morgan Freeman': 1,\n",
       " 'Cate Blanchett': 2,\n",
       " 'Philip Seymour Hoffman': 1,\n",
       " 'George Clooney': 1,\n",
       " 'Reese Witherspoon': 1,\n",
       " 'Rachel Weisz': 1,\n",
       " 'Forest Whitaker': 1,\n",
       " 'Alan Arkin': 1,\n",
       " 'Helen Mirren': 1,\n",
       " 'Jennifer Hudson': 1,\n",
       " 'Daniel Day-Lewis': 2,\n",
       " 'Javier Bardem': 1,\n",
       " 'Marion Cotillard': 1,\n",
       " 'Tilda Swinton': 1,\n",
       " 'Heath Ledger': 1,\n",
       " 'Kate Winslet': 1,\n",
       " 'Penélope Cruz': 1,\n",
       " 'Jeff Bridges': 1,\n",
       " 'Christoph Waltz': 2,\n",
       " 'Sandra Bullock': 1,\n",
       " \"Mo'Nique\": 1,\n",
       " 'Colin Firth': 1,\n",
       " 'Christian Bale': 1,\n",
       " 'Natalie Portman': 1,\n",
       " 'Melissa Leo': 1,\n",
       " 'Jean Dujardin': 1,\n",
       " 'Christopher Plummer': 1,\n",
       " 'Octavia Spencer': 1,\n",
       " 'Jennifer Lawrence': 1,\n",
       " 'Anne Hathaway': 1,\n",
       " 'Matthew McConaughey': 1,\n",
       " 'Jared Leto': 1,\n",
       " \"Lupita Nyong'o\": 1,\n",
       " 'Eddie Redmayne': 1,\n",
       " 'J.K. Simmons': 1,\n",
       " 'Julianne Moore': 1,\n",
       " 'Patricia Arquette': 1,\n",
       " 'Leonardo DiCaprio': 1,\n",
       " 'Mark Rylance': 1,\n",
       " 'Brie Larson': 1,\n",
       " 'Alicia Vikander': 1,\n",
       " 'Casey Affleck': 1,\n",
       " 'Emma Stone': 1,\n",
       " 'Mahershala Ali': 1,\n",
       " 'Viola Davis': 1,\n",
       " 'Gary Oldman': 1,\n",
       " 'Sam Rockwell': 1,\n",
       " 'Allison Janney': 1}"
      ]
     },
     "execution_count": 4,
     "metadata": {},
     "output_type": "execute_result"
    }
   ],
   "source": [
    "OscarActorWinnersDupe = getDict(actorAwards, starAwards = False)\n",
    "OscarActorNomsDupe = getDict(actorAwards, nomination, starAwards = False)\n",
    "OscarDirWinnersDupe = getDict(directorAwards, name = filmCSV, film = nameCSV, starAwards = False)\n",
    "OscarDirNomsDupe = getDict(directorAwards, nomination, name = filmCSV, film = nameCSV, starAwards = False)\n",
    "#These are the same as the dictionaries above except that for the starAwards = False tag. Using this simply returns\n",
    "#a dictionary of the form Dict[year][actor] = oscars won in year, instead of Dict[year][actor] = movie, num oscars\n",
    "#Simply makes it easier to deal with just the numbers\n",
    "\n",
    "\n",
    "startYear = 1934 + 1\n",
    "endYear = 2018\n",
    "def getRunningTotal(Dict):\n",
    "    \"\"\"Returns a dictionary that contains the amount\n",
    "    of awards a actor/director has received at a given time\"\"\"\n",
    "    totalDict = {}\n",
    "    totalDict[startYear] = Dict[startYear]\n",
    "            \n",
    "    for year in range(startYear + 1, endYear + 1):\n",
    "        totalDict[year] = {}\n",
    "        totalDict[year].update(totalDict[year - 1]) #update dictionary with previous year to keep a running total each year\n",
    "    \n",
    "        for key, value in Dict[year].items():\n",
    "            try:\n",
    "                totalDict[year][key] += 1 #if the actor is already present increment by 1\n",
    "            except:\n",
    "                totalDict[year][key] = 1 #set it to 1 if not already present\n",
    "    return totalDict\n",
    "\n",
    "OscarActorWinnersTot = getRunningTotal(OscarActorWinnersDupe)\n",
    "OscarActorNomsTot = getRunningTotal(OscarActorNomsDupe)\n",
    "OscarDirWinnersTot = getRunningTotal(OscarDirWinnersDupe)\n",
    "OscarDirNomsTot = getRunningTotal(OscarDirNomsDupe)\n",
    "\n",
    "print(OscarActorWinnersTot[1953]['Anthony Quinn'])\n",
    "print(OscarActorWinnersTot[1957]['Anthony Quinn']) #Anthony won an Oscar in 1953 and 1957\n",
    "OscarActorWinnersTot[2018]"
   ]
  },
  {
   "cell_type": "code",
   "execution_count": 5,
   "metadata": {},
   "outputs": [
    {
     "name": "stdout",
     "output_type": "stream",
     "text": [
      "Frank Capra\n",
      "3\n",
      "John Ford\n",
      "4\n",
      "Leo McCarey\n",
      "2\n",
      "William Wyler\n",
      "3\n",
      "Billy Wilder\n",
      "2\n",
      "Elia Kazan\n",
      "2\n",
      "Joseph L. Mankiewicz\n",
      "2\n",
      "George Stevens\n",
      "2\n",
      "Fred Zinnemann\n",
      "2\n",
      "David Lean\n",
      "2\n",
      "Milos Forman\n",
      "2\n",
      "Oliver Stone\n",
      "2\n",
      "Clint Eastwood\n",
      "2\n",
      "Steven Spielberg\n",
      "2\n",
      "Ang Lee\n",
      "2\n",
      "Alejandro G. Iñárritu\n",
      "2\n",
      "Walter Brennan\n",
      "3\n",
      "Ingrid Bergman\n",
      "3\n",
      "Katharine Hepburn\n",
      "3\n",
      "Jack Nicholson\n",
      "3\n",
      "Meryl Streep\n",
      "3\n"
     ]
    }
   ],
   "source": [
    "for key, value in OscarDirWinnersTot[2018].items(): #Directors that won multiple awards (just for fun lol)\n",
    "    if value >= 2:\n",
    "        print(key)\n",
    "        print(value)\n",
    "        \n",
    "for key, value in OscarActorWinnersTot[2018].items(): #Actors that won multiple awards (just for fun lol)\n",
    "    if value >= 3:\n",
    "        print(key)\n",
    "        print(value)"
   ]
  },
  {
   "cell_type": "code",
   "execution_count": 71,
   "metadata": {},
   "outputs": [],
   "source": [
    "urlArray = []\n",
    "\n",
    "numMovies = 1000 #numMovies must be less than 300,908, numMovies % 50 must be 0\n",
    "\n",
    "for i in range(1, numMovies - 48, 50): #create an array of urls to iterate through\n",
    "    urlArray.append('https://www.imdb.com/search/title?title_type=feature&release_date=1950-01-01,2017-12-31&start='\n",
    "                    + str(i) + '&ref_=adv_nxt')"
   ]
  },
  {
   "cell_type": "code",
   "execution_count": 7,
   "metadata": {},
   "outputs": [],
   "source": [
    "def cleanData(year_, genre, runtime, box_office, votes):\n",
    "    year1 = ''.join(c for c in year_ if c.isdigit()) #remove non-numeric characters from year\n",
    "    \n",
    "    genre1 = ''.join(c for c in genre if (c != '\\n')) #original data has '\\n' scattered around... remove those\n",
    "    \n",
    "    runtime1 = ''.join(c for c in runtime if c.isdigit()) #remove non-numeric characters from runtime\n",
    "    \n",
    "    box = ''.join(c for c in box_office if (c.isdigit() or c == '.')) #remove non-numeric characters, but keep the decimal\n",
    "    box = round(float(box) * (10**6)) #original is in millions\n",
    "    \n",
    "    votes1 = ''.join(c for c in votes if c.isdigit()) #remove non-numeric characters from year\n",
    "    \n",
    "    \n",
    "    return int(year1), genre1, int(runtime1), box, int(votes1)"
   ]
  },
  {
   "cell_type": "code",
   "execution_count": 8,
   "metadata": {},
   "outputs": [],
   "source": [
    "def normalize(runtime, gross):\n",
    "    nor_runtime = np.divide(runtime,max(runtime))\n",
    "    nor_gross = np.divide(gross,max(gross))\n",
    "    return nor_runtime, nor_gross"
   ]
  },
  {
   "cell_type": "code",
   "execution_count": 253,
   "metadata": {},
   "outputs": [
    {
     "data": {
      "text/plain": [
       "{'Arrival': 1,\n",
       " 'Fences': 1,\n",
       " 'Hacksaw Ridge': 1,\n",
       " 'Hell or High Water': 1,\n",
       " 'Hidden Figures': 1,\n",
       " 'La La Land': 1,\n",
       " 'Lion': 1,\n",
       " 'Manchester by the Sea': 1,\n",
       " 'Fire at Sea': 1,\n",
       " 'I Am Not Your Negro': 1,\n",
       " 'Life Animated': 1,\n",
       " '13th': 1,\n",
       " 'Extremis': 1,\n",
       " '4.1 Miles': 1,\n",
       " \"Joe's Violin\": 1,\n",
       " 'Watani: My Homeland': 1,\n",
       " 'Kubo and the Two Strings': 1,\n",
       " 'Moana': 1,\n",
       " 'My Life as a Zucchini': 1,\n",
       " 'The Red Turtle': 1}"
      ]
     },
     "execution_count": 253,
     "metadata": {},
     "output_type": "execute_result"
    }
   ],
   "source": [
    "movieNoms[2017]"
   ]
  },
  {
   "cell_type": "code",
   "execution_count": 9,
   "metadata": {},
   "outputs": [
    {
     "name": "stdout",
     "output_type": "stream",
     "text": [
      "Movies released in 1990 have a multiplier of 1.9345070969999998 to their gross to adjust for inflation\n"
     ]
    }
   ],
   "source": [
    "CPIdict = {}\n",
    "CPIread = pd.read_csv('CPI.csv') #CPI.csv contains the multiplication factor to get from a given year to 2019 to adjust\n",
    "                                 #for inflation\n",
    "for i in range(len(CPIread[\"Growth\"] + 1)):\n",
    "     CPIdict[CPIread[\"Year\"][i]] = CPIread[\"To 2019\"][i]\n",
    "print(\"Movies released in 1990 have a multiplier of\", CPIdict[1990], \"to their gross to adjust for inflation\")"
   ]
  },
  {
   "cell_type": "code",
   "execution_count": 10,
   "metadata": {},
   "outputs": [],
   "source": [
    "def inflationAdjust(year, box_office):\n",
    "    return int(round(box_office * CPIdict[year])) #multiplies the gross value by the multiplication factor for the year\n",
    "                                                  #it was released"
   ]
  },
  {
   "cell_type": "code",
   "execution_count": 296,
   "metadata": {},
   "outputs": [],
   "source": [
    "def getOscarNum(actor1, actor2, actor3, actor4, actor5, movieName, releaseYear):\n",
    "    stars = []\n",
    "    stars.extend([actor1, actor2, actor3, actor4, actor5])\n",
    "    prevStarWins = prevStarNoms = starWins = starNoms = movieWinsVal = movieNomsVal = otherWins = otherNoms = 0\n",
    "    oscarYear = releaseYear + 1\n",
    "    for star in stars:\n",
    "        if star != '': #Checks how many oscar nominations and wins the directors and actors have prior to this movie\n",
    "            prevStarWins += checkDict(star, OscarDirWinnersTot, releaseYear) #\n",
    "            prevStarWins += checkDict(star, OscarActorWinnersTot, releaseYear)\n",
    "            prevStarNoms += checkDict(star, OscarDirNomsTot, releaseYear)\n",
    "            prevStarNoms += checkDict(star, OscarActorNomsTot, releaseYear)\n",
    "            starWins += checkDict(star, OscarDirWinners, oscarYear, movie = movieName)\n",
    "            starWins += checkDict(star, OscarActorWinners, oscarYear, movie = movieName)\n",
    "            starNoms += checkDict(star, OscarDirNoms, oscarYear, movie = movieName)\n",
    "            starNoms += checkDict(star, OscarActorNoms, oscarYear, movie = movieName)\n",
    "    #Checks num of nominations/wins this movie received\n",
    "    movieWinsVal += checkDict(movieName, movieWinners, oscarYear)\n",
    "    movieNomsVal += checkDict(movieName, movieNoms, oscarYear)\n",
    "    otherWins += checkDict(movieName, otherAwardWinners, oscarYear)\n",
    "    otherNoms += checkDict(movieName, otherAwardNoms, oscarYear)\n",
    "    return prevStarWins, prevStarNoms, starWins, starNoms, movieWinsVal, movieNomsVal, otherWins, otherNoms\n",
    "        \n",
    "def checkDict(name, Dict, year, movie = None):\n",
    "    num = 0\n",
    "    movieName = []\n",
    "    if movie == None:\n",
    "        try:\n",
    "            num += Dict[year][name]       \n",
    "        except:\n",
    "            pass\n",
    "    else:\n",
    "        try:\n",
    "            movieName = Dict[year][name][0]\n",
    "            if movieName == movie:\n",
    "                num += 1\n",
    "        except:\n",
    "            pass\n",
    "    return num"
   ]
  },
  {
   "cell_type": "code",
   "execution_count": 297,
   "metadata": {},
   "outputs": [
    {
     "data": {
      "text/plain": [
       "(0, 1, 1, 0, 0, 1, 1, 3)"
      ]
     },
     "execution_count": 297,
     "metadata": {},
     "output_type": "execute_result"
    }
   ],
   "source": [
    "x = getOscarNum('Gary Oldman', '', '', '', '', 'Darkest Hour', 2017)\n",
    "x #Gary won an award for his role in Darkest Hour -- starWins is 1"
   ]
  },
  {
   "cell_type": "code",
   "execution_count": 298,
   "metadata": {},
   "outputs": [
    {
     "data": {
      "text/plain": [
       "(0, 1, 0, 0, 0, 0, 0, 0)"
      ]
     },
     "execution_count": 298,
     "metadata": {},
     "output_type": "execute_result"
    }
   ],
   "source": [
    "x = getOscarNum('Gary Oldman', '', '', '', '', 'not a real movie', 2017)\n",
    "x #Gary didn't win an award for this movie -- starWins is 0"
   ]
  },
  {
   "cell_type": "code",
   "execution_count": 299,
   "metadata": {
    "scrolled": true
   },
   "outputs": [
    {
     "name": "stdout",
     "output_type": "stream",
     "text": [
      "Missing data for: Love\n",
      "Missing data for: I'm Not Here\n",
      "Missing data for: Exposed\n",
      "Missing data for: A Star Is Born\n",
      "Missing data for: A Clockwork Orange\n",
      "Missing data for: The Love Witch\n",
      "Missing data for: Unicorn Store\n",
      "Missing data for: Contratiempo\n",
      "Missing data for: McQ\n",
      "Missing data for: Mine\n",
      "Missing data for: Aterrados\n",
      "Missing data for: Thunderbolt and Lightfoot\n",
      "Missing data for: Bright\n",
      "Missing data for: Der Mann aus dem Eis\n",
      "Missing data for: Gerald's Game\n",
      "Missing data for: Caligola\n",
      "Missing data for: Get Carter\n",
      "Missing data for: Once Upon a Time in America\n",
      "Missing data for: The Sand\n",
      "Missing data for: Salò o le 120 giornate di Sodoma\n",
      "Missing data for: It Came from Beneath the Sea\n",
      "Missing data for: Flash Gordon\n",
      "Missing data for: Elle\n",
      "Missing data for: Brimstone\n",
      "Missing data for: Così fan tutte\n",
      "Missing data for: What Happened to Monday\n",
      "Missing data for: The Room\n",
      "Missing data for: The Autopsy of Jane Doe\n",
      "Missing data for: Hawaii\n",
      "Missing data for: The Promise\n",
      "Missing data for: Srpski film\n",
      "Missing data for: The Ritual\n",
      "Missing data for: Real Genius\n",
      "Missing data for: Habitación en Roma\n",
      "Missing data for: Would You Rather\n",
      "Missing data for: Suspiria\n",
      "Missing data for: The Sandlot\n",
      "Missing data for: Shot Caller\n",
      "Missing data for: Death Proof\n",
      "Missing data for: Dead Poets Society\n",
      "Missing data for: The Invitation\n",
      "Missing data for: Basmati Blues\n",
      "Missing data for: Secret Admirer\n",
      "Missing data for: Mudbound\n",
      "Missing data for: Below Her Mouth\n",
      "Missing data for: Hot Summer Nights\n",
      "Missing data for: Annie\n",
      "Missing data for: Dangal\n",
      "Missing data for: Stratton\n",
      "Missing data for: The Big Sky\n",
      "Missing data for: Broadcast News\n",
      "Missing data for: Bone Tomahawk\n",
      "Missing data for: Coma\n",
      "Missing data for: To Kill a Mockingbird\n",
      "Missing data for: Hush\n",
      "Missing data for: The Detained\n",
      "Missing data for: Martyrs\n",
      "Missing data for: The Ridiculous 6\n",
      "Missing data for: 1922\n",
      "Missing data for: Striptease\n",
      "Missing data for: The Babysitter\n",
      "Missing data for: Simon\n",
      "Missing data for: Lolita\n",
      "Missing data for: The Super\n",
      "Missing data for: Deliverance\n",
      "Missing data for: Honey, I Shrunk the Kids\n"
     ]
    }
   ],
   "source": [
    "names = []\n",
    "year = []\n",
    "genres = []\n",
    "runtimes = []\n",
    "metascores = []\n",
    "imdbRatings = []\n",
    "audienceRating = []\n",
    "movieGross = []\n",
    "directors =[]\n",
    "movieGrossInflation = []\n",
    "Star1 = []\n",
    "Star2 = []\n",
    "Star3 = []\n",
    "Star4 = []\n",
    "Star5 = []\n",
    "res = []\n",
    "\n",
    "missingData = 0\n",
    "\n",
    "for url in urlArray:\n",
    "    response = get(url)\n",
    "    html_soup = BeautifulSoup(response.text, 'html.parser')\n",
    "    movie_cont = html_soup.find_all('div', class_ = 'lister-item mode-advanced')\n",
    "    \n",
    "    for movie in movie_cont:\n",
    "        name = movie.h3.a.text\n",
    "        try:\n",
    "            year_ = movie.h3.find('span', class_ = 'lister-item-year text-muted unbold').text\n",
    "            genre = movie.p.find('span', class_ = 'genre').text\n",
    "            runtime = movie.p.find('span', class_ = 'runtime').text\n",
    "            viewer_rating = movie.p.span.text\n",
    "            if viewer_rating == runtime:\n",
    "                raise ValueError\n",
    "            m_score = movie.find('span', class_ = 'metascore').text\n",
    "            imdb_rating = float(movie.strong.text)\n",
    "            box_office = movie.find_all('span', attrs = {'name': 'nv'})[1].text\n",
    "            votes = movie.find_all('span', attrs = {'name': 'nv'})[0].text\n",
    "            people = movie.find_all('p', class_ = '')[1]\n",
    "            people = people.find_all('a')\n",
    "            director = people[0].text\n",
    "            actor1 = people[1].text\n",
    "            \n",
    "            #This try/except block is just in case lesser known movies are missing actors (might happen when\n",
    "            #numMovies is set to like 10000, and I don't think it's a big deal as long as we have one actor + director)\n",
    "            try:\n",
    "                actor2 = people[2].text\n",
    "            except:\n",
    "                actor2 = ''\n",
    "            try:\n",
    "                actor3 = people[3].text\n",
    "            except:\n",
    "                actor3 = ''\n",
    "            try:\n",
    "                actor4 = people[4].text\n",
    "            except:\n",
    "                actor4 = ''\n",
    "            try:\n",
    "                actor5 = people[5].text\n",
    "            except:\n",
    "                actor5 =''\n",
    "            \n",
    "            year_, genre, runtime, box_office, votes = cleanData(year_, genre, runtime, box_office, votes) #clean up data\n",
    "            \n",
    "            box_office_inflation = inflationAdjust(year_, box_office) #adjust for inflation\n",
    "            \n",
    "            numStarWins, numStarNoms, starWin, starNom, numMovieWins, numMovieNoms, numOtherWins, numOtherNoms = getOscarNum(actor1, actor2, actor3, actor4, actor5, name, year_)\n",
    "                \n",
    "            res.append((name, year_, genre, runtime, director, actor1, actor2, actor3, actor4, actor5,\n",
    "                        viewer_rating, m_score, imdb_rating, votes, box_office, box_office_inflation, numStarWins, \n",
    "                        numStarNoms, starWin, starNom, numMovieWins, numMovieNoms, numOtherWins, numOtherNoms))\n",
    "        except:\n",
    "            print(\"Missing data for:\", name)\n",
    "            missingData += 1\n",
    "            \n",
    "(names, year, genres, runtimes, directors, Star1, Star2, Star3, Star4, Star5, audienceRatings, metascores, \n",
    "imdbRatings, numVotes, movieGross, movieGrossInflation, starWinsList, starNomsList, starWon, starNom, movieWinsList, movieNomsList, \n",
    "otherWinsList, otherNomsList) = zip(*res)\n",
    "\n",
    "\n",
    "#runtime_normal, box_normal = normalize(runtimes, movieGrossInflation)#Normalize the number data"
   ]
  },
  {
   "cell_type": "code",
   "execution_count": 300,
   "metadata": {},
   "outputs": [
    {
     "name": "stdout",
     "output_type": "stream",
     "text": [
      "Number of movies missing data: 66\n",
      "Total movies with data: 934\n"
     ]
    }
   ],
   "source": [
    "print(\"Number of movies missing data:\", missingData)\n",
    "print(\"Total movies with data:\", numMovies - missingData)"
   ]
  },
  {
   "cell_type": "markdown",
   "metadata": {},
   "source": [
    "This part below takes in the genre list, it creates a one-hot list to make it numerical for regression analysis. I found that there are 191 different combinations of genres (for movies with multiple genres, it was found that the list of them is alphabetical)."
   ]
  },
  {
   "cell_type": "code",
   "execution_count": 301,
   "metadata": {},
   "outputs": [
    {
     "data": {
      "text/plain": [
       "16"
      ]
     },
     "execution_count": 301,
     "metadata": {},
     "output_type": "execute_result"
    }
   ],
   "source": [
    "genresnum = [i.replace(\" \",\"\") for i in genres]\n",
    "diff_genres = list(dict.fromkeys(genresnum))\n",
    "genre_to_int = dict((c, i) for i, c in enumerate(diff_genres))\n",
    "\n",
    "\n",
    "genre_to_int[genresnum[28]]"
   ]
  },
  {
   "cell_type": "code",
   "execution_count": 302,
   "metadata": {},
   "outputs": [],
   "source": [
    "audienceRatingsnum = [i.replace(\" \",\"\") for i in audienceRatings]\n",
    "audienceRatingsnum = [i.replace(\"+\", '') for i in audienceRatingsnum]\n",
    "audienceRatingsnum = [i.replace(\"14A\",'14') for i in audienceRatingsnum]\n",
    "audienceRatingsnum = [i.replace(\"18A\",'18') for i in audienceRatingsnum]\n",
    "audienceRatingsnum = [i.replace(\"PG-13\",'13') for i in audienceRatingsnum]\n",
    "diff_ratings = list(dict.fromkeys(audienceRatingsnum))\n",
    "ratings_to_int = dict((c, i) for i, c in enumerate(diff_ratings))\n"
   ]
  },
  {
   "cell_type": "code",
   "execution_count": 303,
   "metadata": {},
   "outputs": [],
   "source": [
    "df = pd.DataFrame({'Name': names,\n",
    "                  'Year': year,\n",
    "                  'Genre': genresnum,\n",
    "                  'Director': directors,\n",
    "                  'Star1' : Star1,\n",
    "                  'Star2' : Star2,\n",
    "                  'Star3' : Star3,\n",
    "                  'Star4' : Star4,\n",
    "                  'Star5' : Star5,\n",
    "                  'Runtime': runtimes,\n",
    "                  'Rating': audienceRatingsnum,\n",
    "                  'Metascore': metascores,\n",
    "                  'IMDB rating': imdbRatings,\n",
    "                  'Votes': numVotes,\n",
    "                  'Gross': movieGross,\n",
    "                  'Inflation adjusted':movieGrossInflation,\n",
    "                  'Runtime Normalized': runtime_normal,\n",
    "                  'Box Office Adj. Norm.': box_normal,\n",
    "                  'numStarW' : starWinsList,\n",
    "                  'numStarN' : starNomsList,\n",
    "                  'starWon' : starWon,\n",
    "                  'starNom' :starNom,\n",
    "                  'numMovieW' : movieWinsList,\n",
    "                  'numMovieN' : movieNomsList,\n",
    "                  'numOtherW' : otherWinsList,\n",
    "                  'numOtherN' : otherNomsList})"
   ]
  },
  {
   "cell_type": "code",
   "execution_count": 304,
   "metadata": {},
   "outputs": [],
   "source": [
    "df['Rating'] = df['Rating'].apply(lambda x:ratings_to_int[x])\n",
    "df['Genre'] = df['Genre'].apply(lambda x:genre_to_int[x])\n",
    "df['Metascore'] = df['Metascore'].apply(lambda x:int(x))"
   ]
  },
  {
   "cell_type": "code",
   "execution_count": 305,
   "metadata": {},
   "outputs": [],
   "source": [
    "df.to_csv('check.csv')"
   ]
  },
  {
   "cell_type": "code",
   "execution_count": 306,
   "metadata": {},
   "outputs": [
    {
     "name": "stdout",
     "output_type": "stream",
     "text": [
      "<class 'pandas.core.frame.DataFrame'>\n",
      "RangeIndex: 934 entries, 0 to 933\n",
      "Data columns (total 26 columns):\n",
      "Name                     934 non-null object\n",
      "Year                     934 non-null int64\n",
      "Genre                    934 non-null int64\n",
      "Director                 934 non-null object\n",
      "Star1                    934 non-null object\n",
      "Star2                    934 non-null object\n",
      "Star3                    934 non-null object\n",
      "Star4                    934 non-null object\n",
      "Star5                    934 non-null object\n",
      "Runtime                  934 non-null int64\n",
      "Rating                   934 non-null int64\n",
      "Metascore                934 non-null int64\n",
      "IMDB rating              934 non-null float64\n",
      "Votes                    934 non-null int64\n",
      "Gross                    934 non-null int64\n",
      "Inflation adjusted       934 non-null int64\n",
      "Runtime Normalized       934 non-null float64\n",
      "Box Office Adj. Norm.    934 non-null float64\n",
      "numStarW                 934 non-null int64\n",
      "numStarN                 934 non-null int64\n",
      "starWon                  934 non-null int64\n",
      "starNom                  934 non-null int64\n",
      "numMovieW                934 non-null int64\n",
      "numMovieN                934 non-null int64\n",
      "numOtherW                934 non-null int64\n",
      "numOtherN                934 non-null int64\n",
      "dtypes: float64(3), int64(16), object(7)\n",
      "memory usage: 189.8+ KB\n"
     ]
    }
   ],
   "source": [
    "df.info()"
   ]
  },
  {
   "cell_type": "code",
   "execution_count": 307,
   "metadata": {},
   "outputs": [
    {
     "data": {
      "text/plain": [
       "(934, 26)"
      ]
     },
     "execution_count": 307,
     "metadata": {},
     "output_type": "execute_result"
    }
   ],
   "source": [
    "df.shape"
   ]
  },
  {
   "cell_type": "code",
   "execution_count": 354,
   "metadata": {},
   "outputs": [],
   "source": [
    "X = df['Inflation adjusted']\n",
    "#y = df.drop('Inflation adjusted', axis = 1)\n",
    "y = df.drop('Name', axis = 1)\n",
    "y = y.drop('Director', axis=1)\n",
    "y = y.drop('Star1', axis=1)\n",
    "y = y.drop('Star2', axis=1)\n",
    "y = y.drop('Star3', axis=1)\n",
    "y = y.drop('Star4', axis=1)\n",
    "y = y.drop('Star5', axis=1)\n",
    "y = y.drop('Gross', axis=1)\n",
    "y = y.drop('Runtime', axis=1)\n",
    "y = y.drop('Box Office Adj. Norm.', axis=1)\n",
    "y = y.drop('Inflation adjusted', axis=1)"
   ]
  },
  {
   "cell_type": "code",
   "execution_count": 355,
   "metadata": {},
   "outputs": [
    {
     "data": {
      "text/html": [
       "<div>\n",
       "<style scoped>\n",
       "    .dataframe tbody tr th:only-of-type {\n",
       "        vertical-align: middle;\n",
       "    }\n",
       "\n",
       "    .dataframe tbody tr th {\n",
       "        vertical-align: top;\n",
       "    }\n",
       "\n",
       "    .dataframe thead th {\n",
       "        text-align: right;\n",
       "    }\n",
       "</style>\n",
       "<table border=\"1\" class=\"dataframe\">\n",
       "  <thead>\n",
       "    <tr style=\"text-align: right;\">\n",
       "      <th></th>\n",
       "      <th>Year</th>\n",
       "      <th>Genre</th>\n",
       "      <th>Rating</th>\n",
       "      <th>Metascore</th>\n",
       "      <th>IMDB rating</th>\n",
       "      <th>Votes</th>\n",
       "      <th>Runtime Normalized</th>\n",
       "      <th>numStarW</th>\n",
       "      <th>numStarN</th>\n",
       "      <th>starWon</th>\n",
       "      <th>starNom</th>\n",
       "      <th>numMovieW</th>\n",
       "      <th>numMovieN</th>\n",
       "      <th>numOtherW</th>\n",
       "      <th>numOtherN</th>\n",
       "    </tr>\n",
       "  </thead>\n",
       "  <tbody>\n",
       "    <tr>\n",
       "      <th>0</th>\n",
       "      <td>2015</td>\n",
       "      <td>0</td>\n",
       "      <td>0</td>\n",
       "      <td>86</td>\n",
       "      <td>8.2</td>\n",
       "      <td>308239</td>\n",
       "      <td>0.584158</td>\n",
       "      <td>0</td>\n",
       "      <td>0</td>\n",
       "      <td>1</td>\n",
       "      <td>0</td>\n",
       "      <td>0</td>\n",
       "      <td>1</td>\n",
       "      <td>0</td>\n",
       "      <td>1</td>\n",
       "    </tr>\n",
       "    <tr>\n",
       "      <th>1</th>\n",
       "      <td>2014</td>\n",
       "      <td>1</td>\n",
       "      <td>1</td>\n",
       "      <td>76</td>\n",
       "      <td>8.1</td>\n",
       "      <td>918805</td>\n",
       "      <td>0.599010</td>\n",
       "      <td>0</td>\n",
       "      <td>2</td>\n",
       "      <td>0</td>\n",
       "      <td>0</td>\n",
       "      <td>0</td>\n",
       "      <td>0</td>\n",
       "      <td>0</td>\n",
       "      <td>0</td>\n",
       "    </tr>\n",
       "    <tr>\n",
       "      <th>2</th>\n",
       "      <td>2017</td>\n",
       "      <td>2</td>\n",
       "      <td>0</td>\n",
       "      <td>84</td>\n",
       "      <td>7.7</td>\n",
       "      <td>376827</td>\n",
       "      <td>0.514851</td>\n",
       "      <td>0</td>\n",
       "      <td>2</td>\n",
       "      <td>0</td>\n",
       "      <td>1</td>\n",
       "      <td>0</td>\n",
       "      <td>1</td>\n",
       "      <td>1</td>\n",
       "      <td>0</td>\n",
       "    </tr>\n",
       "    <tr>\n",
       "      <th>3</th>\n",
       "      <td>2010</td>\n",
       "      <td>3</td>\n",
       "      <td>1</td>\n",
       "      <td>69</td>\n",
       "      <td>7.5</td>\n",
       "      <td>334269</td>\n",
       "      <td>0.554455</td>\n",
       "      <td>0</td>\n",
       "      <td>1</td>\n",
       "      <td>0</td>\n",
       "      <td>0</td>\n",
       "      <td>0</td>\n",
       "      <td>0</td>\n",
       "      <td>0</td>\n",
       "      <td>0</td>\n",
       "    </tr>\n",
       "    <tr>\n",
       "      <th>4</th>\n",
       "      <td>2017</td>\n",
       "      <td>1</td>\n",
       "      <td>1</td>\n",
       "      <td>74</td>\n",
       "      <td>7.9</td>\n",
       "      <td>444187</td>\n",
       "      <td>0.643564</td>\n",
       "      <td>2</td>\n",
       "      <td>7</td>\n",
       "      <td>0</td>\n",
       "      <td>0</td>\n",
       "      <td>0</td>\n",
       "      <td>0</td>\n",
       "      <td>0</td>\n",
       "      <td>0</td>\n",
       "    </tr>\n",
       "  </tbody>\n",
       "</table>\n",
       "</div>"
      ],
      "text/plain": [
       "   Year  Genre  Rating  Metascore  IMDB rating   Votes  Runtime Normalized  \\\n",
       "0  2015      0       0         86          8.2  308239            0.584158   \n",
       "1  2014      1       1         76          8.1  918805            0.599010   \n",
       "2  2017      2       0         84          7.7  376827            0.514851   \n",
       "3  2010      3       1         69          7.5  334269            0.554455   \n",
       "4  2017      1       1         74          7.9  444187            0.643564   \n",
       "\n",
       "   numStarW  numStarN  starWon  starNom  numMovieW  numMovieN  numOtherW  \\\n",
       "0         0         0        1        0          0          1          0   \n",
       "1         0         2        0        0          0          0          0   \n",
       "2         0         2        0        1          0          1          1   \n",
       "3         0         1        0        0          0          0          0   \n",
       "4         2         7        0        0          0          0          0   \n",
       "\n",
       "   numOtherN  \n",
       "0          1  \n",
       "1          0  \n",
       "2          0  \n",
       "3          0  \n",
       "4          0  "
      ]
     },
     "execution_count": 355,
     "metadata": {},
     "output_type": "execute_result"
    }
   ],
   "source": [
    "y.head()"
   ]
  },
  {
   "cell_type": "code",
   "execution_count": 356,
   "metadata": {},
   "outputs": [],
   "source": [
    "from sklearn.model_selection import train_test_split\n",
    "\n",
    "X_train, X_test, y_train, y_test = train_test_split(X, y, test_size=0.2, random_state=1)"
   ]
  },
  {
   "cell_type": "code",
   "execution_count": 357,
   "metadata": {},
   "outputs": [
    {
     "data": {
      "text/plain": [
       "numpy.ndarray"
      ]
     },
     "execution_count": 357,
     "metadata": {},
     "output_type": "execute_result"
    }
   ],
   "source": [
    "from sklearn.preprocessing import normalize\n",
    "\n",
    "y_norm = normalize(y, axis=0)\n",
    "type(y_norm)"
   ]
  },
  {
   "cell_type": "code",
   "execution_count": 358,
   "metadata": {},
   "outputs": [
    {
     "data": {
      "text/plain": [
       "(934, 15)"
      ]
     },
     "execution_count": 358,
     "metadata": {},
     "output_type": "execute_result"
    }
   ],
   "source": [
    "pca = PCA()\n",
    "final = pca.fit_transform(y_norm)\n",
    "final.shape"
   ]
  },
  {
   "cell_type": "code",
   "execution_count": 359,
   "metadata": {},
   "outputs": [],
   "source": [
    "comp=pca.components_"
   ]
  },
  {
   "cell_type": "code",
   "execution_count": 366,
   "metadata": {},
   "outputs": [
    {
     "data": {
      "text/plain": [
       "array([[ 7.09275593e-04, -5.02021779e-02, -7.35367575e-02,\n",
       "         5.22329580e-02,  1.74169009e-02,  5.09739304e-02,\n",
       "         1.76856872e-02,  1.41843015e-01,  1.41032989e-01,\n",
       "         2.09881670e-01,  2.59704641e-01,  2.10093578e-01,\n",
       "         5.14046551e-01,  4.87833991e-01,  5.36895796e-01],\n",
       "       [-1.50728797e-04, -4.97759935e-03, -7.16811120e-02,\n",
       "         4.08569774e-02,  2.17008558e-02,  1.56924376e-01,\n",
       "         4.87155818e-02,  5.74224078e-01,  5.23181663e-01,\n",
       "         2.86174993e-01,  3.37075057e-01, -2.36688318e-01,\n",
       "        -8.55818775e-02, -2.68335066e-01, -1.77146664e-01],\n",
       "       [-4.75879957e-04,  1.16085859e-02,  2.59179043e-02,\n",
       "         4.73808072e-02,  2.01990170e-02,  9.41652117e-02,\n",
       "         1.11363367e-02, -9.14382594e-02, -6.58860700e-02,\n",
       "         2.96541218e-01,  2.93459997e-01,  7.91101024e-01,\n",
       "        -3.97548686e-01, -1.22292473e-01, -4.41656023e-02],\n",
       "       [ 1.03990609e-03,  7.66592370e-03, -1.22964100e-01,\n",
       "        -4.20274155e-02, -2.03391833e-02, -6.86412180e-02,\n",
       "        -6.19089647e-03,  4.06895150e-01,  3.19959074e-01,\n",
       "        -6.84016680e-01, -2.28864653e-01,  3.91109776e-01,\n",
       "        -1.24165931e-01,  1.45115879e-01,  1.58770228e-02],\n",
       "       [-5.95633281e-04,  7.12255254e-03, -5.89313868e-02,\n",
       "         4.28065860e-02,  1.18252897e-02,  2.84804250e-02,\n",
       "         2.81982361e-03, -1.75375667e-01, -1.49406463e-01,\n",
       "        -5.33191927e-01,  7.87454192e-01, -9.89249253e-02,\n",
       "         1.01820804e-01, -1.12760349e-01, -5.79613233e-02],\n",
       "       [-2.43477538e-03, -2.00017892e-02,  9.12582150e-01,\n",
       "         2.78471513e-02,  2.42697546e-02,  1.62993372e-01,\n",
       "         1.69119247e-02,  9.43457688e-02,  4.42077016e-02,\n",
       "        -7.43555324e-02,  7.02646050e-02, -1.18638535e-02,\n",
       "        -2.41292323e-02,  2.92536963e-01, -1.75921378e-01],\n",
       "       [ 2.93928102e-04, -3.36953764e-01, -3.49378585e-01,\n",
       "         4.25259644e-02,  3.63903725e-02,  4.27259854e-01,\n",
       "         4.66596402e-02, -4.50004348e-02, -8.70001889e-02,\n",
       "         2.90728837e-02,  2.24474929e-02, -1.14490044e-01,\n",
       "        -2.26530497e-01,  5.91067439e-01, -3.89625344e-01],\n",
       "       [-3.14635973e-04,  7.33977464e-01, -1.05932184e-01,\n",
       "        -1.77471036e-02, -3.14664096e-02, -3.88446950e-01,\n",
       "        -4.15333867e-02,  9.34099309e-02, -6.32835914e-02,\n",
       "         1.19118220e-01,  1.31657538e-01, -4.26364146e-02,\n",
       "        -8.26985965e-02,  3.99001650e-01, -2.89865284e-01],\n",
       "       [-6.07574147e-04,  3.48598213e-01,  1.12999195e-02,\n",
       "         5.18912460e-02,  3.98911342e-02,  3.76677786e-01,\n",
       "         4.18840798e-02, -2.25347909e-02, -1.94359917e-02,\n",
       "        -8.66301682e-02,  3.52645229e-03, -2.57636960e-01,\n",
       "        -5.41825474e-01,  6.02694689e-02,  5.98698540e-01],\n",
       "       [ 2.60176008e-04, -4.69530388e-01,  6.18138371e-02,\n",
       "        -1.17862696e-01, -7.96457368e-02, -6.35423561e-01,\n",
       "        -3.41326979e-02,  1.19779142e-01, -5.31555084e-02,\n",
       "         6.90494894e-02,  1.79842369e-01, -1.68962101e-01,\n",
       "        -4.30750564e-01,  1.82986539e-01,  2.20669484e-01],\n",
       "       [-8.91905590e-04, -1.19649011e-02, -8.28814198e-03,\n",
       "         3.86515579e-03,  9.13544082e-03,  1.08357702e-01,\n",
       "         3.35621214e-03,  6.40649800e-01, -7.48364709e-01,\n",
       "         7.68751341e-03, -1.75399909e-02,  2.62374051e-02,\n",
       "         7.50706610e-02, -9.98734155e-02,  2.80881217e-02],\n",
       "       [ 3.75601838e-03,  4.60375881e-02,  4.85718687e-03,\n",
       "        -9.46792362e-01, -2.55287990e-01,  1.70753991e-01,\n",
       "        -5.54879711e-03, -1.23400372e-02,  7.35070897e-03,\n",
       "         2.96414320e-02,  6.76378124e-02,  2.12903477e-02,\n",
       "         3.01344422e-02,  4.87257151e-03,  4.74218576e-03],\n",
       "       [ 1.06986681e-03,  1.71662559e-02,  1.73028322e-03,\n",
       "        -3.26076435e-02,  3.87815404e-02, -8.95627143e-02,\n",
       "         9.93643817e-01, -1.92819157e-02, -2.26456002e-02,\n",
       "        -1.29046922e-02, -1.82585828e-02,  1.05620255e-02,\n",
       "         1.38360574e-02, -4.74176176e-03, -8.62555959e-03],\n",
       "       [ 2.17253681e-02,  3.59781337e-03,  6.86671031e-03,\n",
       "         2.69772532e-01, -9.59264163e-01,  6.17040082e-02,\n",
       "         5.15918924e-02, -1.80239349e-03, -2.13901185e-03,\n",
       "         2.10249378e-03, -2.28492912e-03,  6.75869861e-04,\n",
       "         2.89296138e-03, -2.64696689e-03, -7.44186085e-04],\n",
       "       [-9.99751580e-01, -3.71860989e-04, -2.25242522e-03,\n",
       "         2.09415423e-03, -2.18835043e-02,  1.12582714e-03,\n",
       "         2.10366882e-03, -3.19927674e-04,  9.83553918e-04,\n",
       "        -7.00794225e-05, -6.74194623e-04,  4.77751699e-04,\n",
       "         7.36296610e-04,  5.44548732e-05,  5.45727854e-04]])"
      ]
     },
     "execution_count": 366,
     "metadata": {},
     "output_type": "execute_result"
    }
   ],
   "source": [
    "comp"
   ]
  },
  {
   "cell_type": "code",
   "execution_count": 360,
   "metadata": {},
   "outputs": [
    {
     "data": {
      "image/png": "[encoded data removed]",
      "text/plain": [
       "<Figure size 432x288 with 1 Axes>"
      ]
     },
     "metadata": {},
     "output_type": "display_data"
    }
   ],
   "source": [
    "plt.plot(np.cumsum(pca.explained_variance_ratio_))\n",
    "plt.xlabel('number of components')\n",
    "plt.ylabel('cumulative explained variance');"
   ]
  },
  {
   "cell_type": "code",
   "execution_count": 361,
   "metadata": {},
   "outputs": [],
   "source": [
    "test=pca.explained_variance_ratio_"
   ]
  },
  {
   "cell_type": "code",
   "execution_count": 362,
   "metadata": {},
   "outputs": [
    {
     "data": {
      "text/plain": [
       "array([2.49062710e-01, 1.48211879e-01, 1.14442882e-01, 1.07952089e-01,\n",
       "       7.88404644e-02, 6.59589112e-02, 5.98757086e-02, 5.65474431e-02,\n",
       "       4.33461027e-02, 3.86718499e-02, 2.86186190e-02, 5.29631168e-03,\n",
       "       2.63568098e-03, 5.36279143e-04, 3.06897646e-06])"
      ]
     },
     "execution_count": 362,
     "metadata": {},
     "output_type": "execute_result"
    }
   ],
   "source": [
    "test"
   ]
  },
  {
   "cell_type": "code",
   "execution_count": 363,
   "metadata": {},
   "outputs": [
    {
     "data": {
      "text/plain": [
       "15"
      ]
     },
     "execution_count": 363,
     "metadata": {},
     "output_type": "execute_result"
    }
   ],
   "source": [
    "pca.n_components_"
   ]
  },
  {
   "cell_type": "code",
   "execution_count": null,
   "metadata": {},
   "outputs": [],
   "source": [
    "sns.pairplot(y)"
   ]
  },
  {
   "cell_type": "code",
   "execution_count": 370,
   "metadata": {},
   "outputs": [],
   "source": [
    "pc_df = pd.DataFrame(data = final, columns = ['PC1 PC2 PC3 PC4 PC5 PC6 PC7 PC8 PC9 PC10 PC11 PC12 PC13 PC14 PC15'.split()])"
   ]
  },
  {
   "cell_type": "code",
   "execution_count": 371,
   "metadata": {},
   "outputs": [
    {
     "data": {
      "text/html": [
       "<div>\n",
       "<style scoped>\n",
       "    .dataframe tbody tr th:only-of-type {\n",
       "        vertical-align: middle;\n",
       "    }\n",
       "\n",
       "    .dataframe tbody tr th {\n",
       "        vertical-align: top;\n",
       "    }\n",
       "\n",
       "    .dataframe thead tr th {\n",
       "        text-align: left;\n",
       "    }\n",
       "</style>\n",
       "<table border=\"1\" class=\"dataframe\">\n",
       "  <thead>\n",
       "    <tr>\n",
       "      <th></th>\n",
       "      <th>PC1</th>\n",
       "      <th>PC2</th>\n",
       "      <th>PC3</th>\n",
       "      <th>PC4</th>\n",
       "      <th>PC5</th>\n",
       "      <th>PC6</th>\n",
       "      <th>PC7</th>\n",
       "      <th>PC8</th>\n",
       "      <th>PC9</th>\n",
       "      <th>PC10</th>\n",
       "      <th>PC11</th>\n",
       "      <th>PC12</th>\n",
       "      <th>PC13</th>\n",
       "      <th>PC14</th>\n",
       "      <th>PC15</th>\n",
       "    </tr>\n",
       "  </thead>\n",
       "  <tbody>\n",
       "    <tr>\n",
       "      <th>0</th>\n",
       "      <td>0.146664</td>\n",
       "      <td>-0.014773</td>\n",
       "      <td>-0.054222</td>\n",
       "      <td>-0.106217</td>\n",
       "      <td>-0.039545</td>\n",
       "      <td>-0.044071</td>\n",
       "      <td>-0.046554</td>\n",
       "      <td>-0.037395</td>\n",
       "      <td>-0.096583</td>\n",
       "      <td>-0.063519</td>\n",
       "      <td>0.022763</td>\n",
       "      <td>-0.003724</td>\n",
       "      <td>0.001243</td>\n",
       "      <td>-0.000923</td>\n",
       "      <td>-0.000035</td>\n",
       "    </tr>\n",
       "    <tr>\n",
       "      <th>1</th>\n",
       "      <td>-0.009715</td>\n",
       "      <td>-0.001126</td>\n",
       "      <td>0.000608</td>\n",
       "      <td>-0.001024</td>\n",
       "      <td>-0.000207</td>\n",
       "      <td>-0.000694</td>\n",
       "      <td>0.032564</td>\n",
       "      <td>-0.038298</td>\n",
       "      <td>0.010374</td>\n",
       "      <td>-0.023995</td>\n",
       "      <td>-0.007466</td>\n",
       "      <td>-0.000525</td>\n",
       "      <td>-0.003483</td>\n",
       "      <td>0.000394</td>\n",
       "      <td>-0.000147</td>\n",
       "    </tr>\n",
       "    <tr>\n",
       "      <th>2</th>\n",
       "      <td>0.163847</td>\n",
       "      <td>-0.033235</td>\n",
       "      <td>-0.081972</td>\n",
       "      <td>-0.020775</td>\n",
       "      <td>0.055747</td>\n",
       "      <td>0.011235</td>\n",
       "      <td>0.035842</td>\n",
       "      <td>0.013075</td>\n",
       "      <td>-0.111859</td>\n",
       "      <td>-0.057985</td>\n",
       "      <td>-0.007985</td>\n",
       "      <td>-0.000134</td>\n",
       "      <td>-0.003230</td>\n",
       "      <td>0.000451</td>\n",
       "      <td>-0.000057</td>\n",
       "    </tr>\n",
       "    <tr>\n",
       "      <th>3</th>\n",
       "      <td>-0.013962</td>\n",
       "      <td>-0.014566</td>\n",
       "      <td>-0.003144</td>\n",
       "      <td>-0.001353</td>\n",
       "      <td>0.000033</td>\n",
       "      <td>-0.008820</td>\n",
       "      <td>0.013489</td>\n",
       "      <td>-0.018996</td>\n",
       "      <td>-0.006556</td>\n",
       "      <td>0.005711</td>\n",
       "      <td>-0.003868</td>\n",
       "      <td>-0.004358</td>\n",
       "      <td>-0.001567</td>\n",
       "      <td>-0.000834</td>\n",
       "      <td>-0.000097</td>\n",
       "    </tr>\n",
       "    <tr>\n",
       "      <th>4</th>\n",
       "      <td>0.007422</td>\n",
       "      <td>0.067490</td>\n",
       "      <td>-0.013739</td>\n",
       "      <td>0.051318</td>\n",
       "      <td>-0.023412</td>\n",
       "      <td>0.003114</td>\n",
       "      <td>0.008397</td>\n",
       "      <td>-0.020447</td>\n",
       "      <td>-0.006346</td>\n",
       "      <td>0.005735</td>\n",
       "      <td>-0.004833</td>\n",
       "      <td>-0.006203</td>\n",
       "      <td>-0.000541</td>\n",
       "      <td>-0.001413</td>\n",
       "      <td>-0.000183</td>\n",
       "    </tr>\n",
       "  </tbody>\n",
       "</table>\n",
       "</div>"
      ],
      "text/plain": [
       "        PC1       PC2       PC3       PC4       PC5       PC6       PC7  \\\n",
       "0  0.146664 -0.014773 -0.054222 -0.106217 -0.039545 -0.044071 -0.046554   \n",
       "1 -0.009715 -0.001126  0.000608 -0.001024 -0.000207 -0.000694  0.032564   \n",
       "2  0.163847 -0.033235 -0.081972 -0.020775  0.055747  0.011235  0.035842   \n",
       "3 -0.013962 -0.014566 -0.003144 -0.001353  0.000033 -0.008820  0.013489   \n",
       "4  0.007422  0.067490 -0.013739  0.051318 -0.023412  0.003114  0.008397   \n",
       "\n",
       "        PC8       PC9      PC10      PC11      PC12      PC13      PC14  \\\n",
       "0 -0.037395 -0.096583 -0.063519  0.022763 -0.003724  0.001243 -0.000923   \n",
       "1 -0.038298  0.010374 -0.023995 -0.007466 -0.000525 -0.003483  0.000394   \n",
       "2  0.013075 -0.111859 -0.057985 -0.007985 -0.000134 -0.003230  0.000451   \n",
       "3 -0.018996 -0.006556  0.005711 -0.003868 -0.004358 -0.001567 -0.000834   \n",
       "4 -0.020447 -0.006346  0.005735 -0.004833 -0.006203 -0.000541 -0.001413   \n",
       "\n",
       "       PC15  \n",
       "0 -0.000035  \n",
       "1 -0.000147  \n",
       "2 -0.000057  \n",
       "3 -0.000097  \n",
       "4 -0.000183  "
      ]
     },
     "execution_count": 371,
     "metadata": {},
     "output_type": "execute_result"
    }
   ],
   "source": [
    "pc_df.head()"
   ]
  },
  {
   "cell_type": "code",
   "execution_count": 372,
   "metadata": {},
   "outputs": [
    {
     "name": "stdout",
     "output_type": "stream",
     "text": [
      "<class 'pandas.core.frame.DataFrame'>\n",
      "RangeIndex: 934 entries, 0 to 933\n",
      "Data columns (total 15 columns):\n",
      "(PC1,)     934 non-null float64\n",
      "(PC2,)     934 non-null float64\n",
      "(PC3,)     934 non-null float64\n",
      "(PC4,)     934 non-null float64\n",
      "(PC5,)     934 non-null float64\n",
      "(PC6,)     934 non-null float64\n",
      "(PC7,)     934 non-null float64\n",
      "(PC8,)     934 non-null float64\n",
      "(PC9,)     934 non-null float64\n",
      "(PC10,)    934 non-null float64\n",
      "(PC11,)    934 non-null float64\n",
      "(PC12,)    934 non-null float64\n",
      "(PC13,)    934 non-null float64\n",
      "(PC14,)    934 non-null float64\n",
      "(PC15,)    934 non-null float64\n",
      "dtypes: float64(15)\n",
      "memory usage: 109.5 KB\n"
     ]
    }
   ],
   "source": [
    "pc_df.info()"
   ]
  },
  {
   "cell_type": "code",
   "execution_count": 382,
   "metadata": {},
   "outputs": [
    {
     "data": {
      "text/plain": [
       "<matplotlib.legend.Legend at 0x236a9268780>"
      ]
     },
     "execution_count": 382,
     "metadata": {},
     "output_type": "execute_result"
    },
    {
     "data": {
      "image/png": "[encoded data removed]",
      "text/plain": [
       "<Figure size 432x288 with 1 Axes>"
      ]
     },
     "metadata": {},
     "output_type": "display_data"
    }
   ],
   "source": [
    "fig = plt.figure()\n",
    "\n",
    "ax = fig.add_axes([0,0,2,2])\n",
    "\n",
    "ax.scatter(X, pc_df['PC1'], label=\"PC1\")\n",
    "ax.scatter(X, pc_df['PC2'], label=\"PC2\")\n",
    "ax.scatter(X, pc_df['PC3'], label=\"PC3\")\n",
    "ax.scatter(X, pc_df['PC4'], label=\"PC4\")\n",
    "ax.scatter(X, pc_df['PC5'], label=\"PC5\")\n",
    "ax.scatter(X, pc_df['PC6'], label=\"PC6\")\n",
    "ax.scatter(X, pc_df['PC7'], label=\"PC7\")\n",
    "ax.scatter(X, pc_df['PC8'], label=\"PC8\")\n",
    "ax.scatter(X, pc_df['PC9'], label=\"PC9\")\n",
    "ax.scatter(X, pc_df['PC10'], label=\"PC10\")\n",
    "ax.scatter(X, pc_df['PC11'], label=\"PC11\")\n",
    "ax.scatter(X, pc_df['PC12'], label=\"PC12\")\n",
    "ax.scatter(X, pc_df['PC13'], label=\"PC13\")\n",
    "ax.scatter(X, pc_df['PC14'], label=\"PC14\")\n",
    "ax.scatter(X, pc_df['PC15'], label=\"PC15\")\n",
    "ax.legend()"
   ]
  },
  {
   "cell_type": "code",
   "execution_count": 381,
   "metadata": {},
   "outputs": [
    {
     "data": {
      "text/plain": [
       "<matplotlib.collections.PathCollection at 0x236a92110f0>"
      ]
     },
     "execution_count": 381,
     "metadata": {},
     "output_type": "execute_result"
    },
    {
     "data": {
      "image/png": "[encoded data removed]",
      "text/plain": [
       "<Figure size 432x288 with 1 Axes>"
      ]
     },
     "metadata": {},
     "output_type": "display_data"
    }
   ],
   "source": [
    "plt.scatter(pc_df['PC1'], pc_df['PC2'])"
   ]
  },
  {
   "cell_type": "code",
   "execution_count": null,
   "metadata": {},
   "outputs": [],
   "source": []
  }
 ],
 "metadata": {
  "kernelspec": {
   "display_name": "Python 3",
   "language": "python",
   "name": "python3"
  },
  "language_info": {
   "codemirror_mode": {
    "name": "ipython",
    "version": 3
   },
   "file_extension": ".py",
   "mimetype": "text/x-python",
   "name": "python",
   "nbconvert_exporter": "python",
   "pygments_lexer": "ipython3",
   "version": "3.6.5"
  }
 },
 "nbformat": 4,
 "nbformat_minor": 2
}
