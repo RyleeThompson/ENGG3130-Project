{
 "cells": [
  {
   "cell_type": "code",
   "execution_count": 188,
   "metadata": {},
   "outputs": [],
   "source": [
    "from requests import get\n",
    "import pandas as pd\n",
    "from bs4 import BeautifulSoup\n",
    "import numpy as np\n",
    "import matplotlib.pyplot as plt\n",
    "import seaborn as sns\n",
    "\n",
    "from numpy import array\n",
    "from numpy import argmax\n",
    "#import keras\n",
    "#from keras.utils import to_categorical"
   ]
  },
  {
   "cell_type": "markdown",
   "metadata": {},
   "source": [
    "Following code gets data for a selected number of movies released between 1934-01-01 and 2017-12-31, ordered by popularity (ordered by IMDB)"
   ]
  },
  {
   "cell_type": "code",
   "execution_count": 2,
   "metadata": {},
   "outputs": [
    {
     "name": "stdout",
     "output_type": "stream",
     "text": [
      "1950 oscar winners (acting) are: {'José Ferrer': ('Cyrano de Bergerac', 1), 'George Sanders': ('All about Eve', 1), 'Judy Holliday': ('Born Yesterday', 1), 'Josephine Hull': ('Harvey', 1)}\n",
      "1950 oscar nominees (acting) are: {'Kirk Douglas': ('Champion', 1), 'Gregory Peck': (\"Twelve O'Clock High\", 1), 'Richard Todd': ('The Hasty Heart', 1), 'John Wayne': ('Sands of Iwo Jima', 1), 'John Ireland': (\"All the King's Men\", 1), 'Arthur Kennedy': ('Champion', 1), 'Ralph Richardson': ('The Heiress', 1), 'James Whitmore': ('Battleground', 1), 'Jeanne Crain': ('Pinky', 1), 'Susan Hayward': ('My Foolish Heart', 1), 'Deborah Kerr': ('Edward, My Son', 1), 'Loretta Young': ('Come to the Stable', 1), 'Ethel Barrymore': ('Pinky', 1), 'Celeste Holm': ('Come to the Stable', 1), 'Elsa Lanchester': ('Come to the Stable', 1), 'Ethel Waters': ('Pinky', 1)}\n",
      "1950 oscar winners (directing) are: {'Joseph L. Mankiewicz': ('A Letter to Three Wives ', 1)}\n",
      "1950 oscar nominees (directing) are: {'Robert Rossen': (\"All the King's Men \", 1), 'William A. Wellman': ('Battleground ', 1), 'Carol Reed': ('The Fallen Idol ', 1), 'William Wyler': ('The Heiress ', 1)}\n",
      "1950 oscar winners (movie) are: {'Daybreak in Udi ': 1, 'A Chance to Live ': 1, 'So Much for So Little ': 1, \"All the King's Men \": 1, 'For Scent-Imental Reasons ': 1, 'Aquatic House-Party ': 1}\n",
      "1950 oscar nominees (movie) are: {'Kenji Comes Home ': 1, '1848': 1, 'The Rising Tide ': 1, 'Battleground ': 1, 'The Heiress ': 1, 'A Letter to Three Wives ': 1, \"Twelve O'Clock High \": 1, 'Canary Row ': 1, 'Hatch Up Your Troubles ': 1, 'The Magic Fluke ': 1, 'Toy Tinkers ': 1, 'Roller Derby Girl ': 1, \"So You Think You're Not Guilty \": 1, 'Spills and Chills ': 1, 'Water Trix ': 1}\n",
      "1950 oscar winners (other) are: {'The Heiress ': 3, 'Little Women ': 1, 'Battleground ': 2, 'She Wore a Yellow Ribbon ': 1, 'The Adventures of Don Juan ': 1, 'Champion ': 1, 'On the Town ': 1, '\"Baby, It\\'s Cold Outside\" from Neptune\\'s Daughter': 1, 'Van Gogh ': 1, \"Twelve O'Clock High \": 1, 'Mighty Joe Young ': 1, 'The Stratton Story ': 1, 'A Letter to Three Wives ': 1, 'The Bicycle Thief': 1, 'Bobby Driscoll': 1, 'Fred Astaire': 1, 'Cecil B. DeMille': 1, 'Jean Hersholt': 1}\n",
      "1950 oscar nominees (other) are: {'Come to the Stable ': 3, 'Madame Bovary ': 1, 'The Adventures of Don Juan ': 1, 'Saraband ': 1, 'Champion ': 3, 'The Heiress ': 1, 'Prince of Foxes ': 2, 'The Barkleys of Broadway ': 1, 'Jolson Sings Again ': 3, 'Little Women ': 1, 'Sand ': 1, 'Mother Is a Freshman ': 1, \"All the King's Men \": 2, 'Battleground ': 1, 'Sands of Iwo Jima ': 3, 'The Window ': 1, 'Beyond the Forest ': 1, 'Look for the Silver Lining ': 1, '\"It\\'s A Great Feeling\" from It\\'s a Great Feeling': 1, '\"Lavender Blue\" from So Dear to My Heart': 1, '\"My Foolish Heart\" from My Foolish Heart': 1, '\"Through A Long And Sleepless Night\" from Come to the Stable': 1, 'The Boy and the Eagle ': 1, 'Chase of Death ': 1, 'The Grass Is Always Greener ': 1, 'Snow Carnival ': 1, 'Once More, My Darling ': 1, 'Tulsa ': 1, 'It Happens Every Spring ': 1, 'White Heat ': 1, 'The Bicycle Thief ': 1, 'The Fallen Idol ': 1, 'Paisan ': 1, 'Passport to Pimlico ': 1, 'The Quiet One ': 1}\n"
     ]
    },
    {
     "data": {
      "text/plain": [
       "{'Coco': 1,\n",
       " 'The Shape of Water': 2,\n",
       " 'Blade Runner 2049': 2,\n",
       " 'Get Out': 1,\n",
       " 'Call Me by Your Name': 1,\n",
       " 'The Silent Child': 1,\n",
       " 'Dunkirk': 3,\n",
       " 'Dear Basketball': 1,\n",
       " 'A Fantastic Woman': 1,\n",
       " 'Phantom Thread': 1,\n",
       " 'Darkest Hour': 1}"
      ]
     },
     "execution_count": 2,
     "metadata": {},
     "output_type": "execute_result"
    }
   ],
   "source": [
    "actorAwards = ['Actor', 'Actor in a Supporting Role', 'Actress', 'Actress in a Supporting Role', 'Actor in a Leading Role', \n",
    "               'Actress in a Leading Role']\n",
    "#Awards that can be received directly by an actor/actress\n",
    "\n",
    "directorAwards = ['Directing'] #For this dataset that name of the director is in the 'Film' category\n",
    "#Awards that can be received directly by a director\n",
    "\n",
    "movieAwards = ['Best Motion Picture', 'Outstanding Motion Picture', 'Documentary', 'Documentary (Feature)', \n",
    "               'Documentary (Short Subject)', 'Short Subject (Cartoon)', 'Short Subject (One Reel)',\n",
    "               'Short Film (Animated)', 'Short Film (Live Action)', 'Best Picture', 'Animated Feature Film'] #Movie name is in the 'name' category\n",
    "#Awards that directors and actors can directly influence\n",
    "\n",
    "#Awards like writing, screenplay, production, etc are saved under other awards as the actor and director do not\n",
    "#influence them as directly (or at all) as the ones above\n",
    "\n",
    "OscarRead = pd.read_csv('OscarDatabase.csv') #read the database\n",
    "yearCSV = OscarRead[\"Year\"] #The year the movie was released\n",
    "awardCSV = OscarRead[\"Award\"] #The name of the award received/nominated for\n",
    "winnerCSV = OscarRead[\"Winner\"] #If the entry won or not\n",
    "\n",
    "resultsCSV = winnerCSV.copy() #Create a copy to edit\n",
    "resultsCSV[resultsCSV != 1] = 0 #Original CSV has a '1' for winner, and NaN for a nomination - convert NaN to '0'\n",
    "\n",
    "nameCSV = OscarRead[\"Name\"] \n",
    "filmCSV = OscarRead[\"Film\"]\n",
    "\n",
    "win = 1\n",
    "nomination = 0\n",
    "\n",
    "def getDict(awards, result = win, name = nameCSV, film = filmCSV, starAwards = True, otherAwards = False):\n",
    "    \"\"\"awards = list containing awards interested in.\n",
    "       nameOrFilm = column that contains the actor/director name (different for different awards)\n",
    "       Returns a new nested dictionary where the outside key is \n",
    "       a year, and the inside key is the name of actor/film/director\n",
    "       who received a nomination or won an award in the list\n",
    "       for the years 1935-2016\"\"\"\n",
    "    \n",
    "    Dict = {}\n",
    "    for i in range(len(yearCSV)):\n",
    "        if otherAwards == False and awardCSV[i] not in awards or resultsCSV[i] != result:\n",
    "            continue\n",
    "        elif otherAwards == True and awardCSV[i] in awards or resultsCSV[i] != result:\n",
    "            continue\n",
    "        if starAwards == False:\n",
    "            try:\n",
    "                try:\n",
    "                    Dict[yearCSV[i] + 1][name[i]] += 1 #If the movie wins multiple awards in a year\n",
    "                except:\n",
    "                    Dict[yearCSV[i] + 1][name[i]] = 1 #Set the value for movie to one if the year is already in the dictionary\n",
    "            except:\n",
    "                Dict[yearCSV[i] + 1] = {} #if year is not in dictionary yet then create it\n",
    "                Dict[yearCSV[i] + 1][name[i]] = 1 #set the value to one\n",
    "                #Above code uses year + 1 for the key as the original database has the release year of the movie stored, \n",
    "                #not the year of the oscars\n",
    "        else:\n",
    "            try:\n",
    "                try:\n",
    "                    Dict[yearCSV[i] + 1][name[i]][1] += 1\n",
    "                except:\n",
    "                    Dict[yearCSV[i] + 1][name[i]] = film[i], 1\n",
    "            except:\n",
    "                Dict[yearCSV[i] + 1] = {}\n",
    "                Dict[yearCSV[i] + 1][name[i]] = film[i], 1            \n",
    "    return Dict\n",
    "#Following dictionaries have data for 1935-2016\n",
    "#If a movie/actor/director wins an award, it is only saved as a winner and will not have an entry for the nomination\n",
    "#it received for that award\n",
    "OscarActorWinners = getDict(actorAwards)\n",
    "OscarActorNoms = getDict(actorAwards, nomination)\n",
    "OscarDirWinners = getDict(directorAwards, name = filmCSV, film = nameCSV)\n",
    "OscarDirNoms = getDict(directorAwards, nomination, name = filmCSV, film = nameCSV)\n",
    "movieWinners = getDict(movieAwards, starAwards = False)\n",
    "movieNoms = getDict(movieAwards, nomination, starAwards = False)\n",
    "otherAwardWinners = getDict(actorAwards + movieAwards + directorAwards, starAwards = False, otherAwards = True)\n",
    "otherAwardNoms = getDict(actorAwards + movieAwards + directorAwards, nomination, starAwards = False, otherAwards = True)\n",
    "\n",
    "print(\"1950 oscar winners (acting) are:\", OscarActorWinners[1951])\n",
    "print(\"1950 oscar nominees (acting) are:\", OscarActorNoms[1950])\n",
    "print(\"1950 oscar winners (directing) are:\", OscarDirWinners[1950])\n",
    "print(\"1950 oscar nominees (directing) are:\", OscarDirNoms[1950])\n",
    "print(\"1950 oscar winners (movie) are:\", movieWinners[1950])\n",
    "print(\"1950 oscar nominees (movie) are:\", movieNoms[1950])\n",
    "print(\"1950 oscar winners (other) are:\", otherAwardWinners[1950])\n",
    "print(\"1950 oscar nominees (other) are:\", otherAwardNoms[1950])\n",
    "\n",
    "otherAwardWinners[2018]"
   ]
  },
  {
   "cell_type": "code",
   "execution_count": 3,
   "metadata": {},
   "outputs": [
    {
     "data": {
      "text/plain": [
       "'Darkest Hour'"
      ]
     },
     "execution_count": 3,
     "metadata": {},
     "output_type": "execute_result"
    }
   ],
   "source": [
    "OscarActorWinners[2018]['Gary Oldman'][0] #Gary won an oscar for his role in Darkest Hour"
   ]
  },
  {
   "cell_type": "code",
   "execution_count": 4,
   "metadata": {},
   "outputs": [
    {
     "name": "stdout",
     "output_type": "stream",
     "text": [
      "1\n",
      "2\n"
     ]
    },
    {
     "data": {
      "text/plain": [
       "{'Clark Gable': 1,\n",
       " 'Claudette Colbert': 1,\n",
       " 'Victor McLaglen': 1,\n",
       " 'Bette Davis': 2,\n",
       " 'Paul Muni': 1,\n",
       " 'Walter Brennan': 3,\n",
       " 'Luise Rainer': 2,\n",
       " 'Gale Sondergaard': 1,\n",
       " 'Spencer Tracy': 2,\n",
       " 'Joseph Schildkraut': 1,\n",
       " 'Alice Brady': 1,\n",
       " 'Fay Bainter': 1,\n",
       " 'Robert Donat': 1,\n",
       " 'Thomas Mitchell': 1,\n",
       " 'Vivien Leigh': 2,\n",
       " 'Hattie McDaniel': 1,\n",
       " 'James Stewart': 1,\n",
       " 'Ginger Rogers': 1,\n",
       " 'Jane Darwell': 1,\n",
       " 'Gary Cooper': 2,\n",
       " 'Donald Crisp': 1,\n",
       " 'Joan Fontaine': 1,\n",
       " 'Mary Astor': 1,\n",
       " 'James Cagney': 1,\n",
       " 'Van Heflin': 1,\n",
       " 'Greer Garson': 1,\n",
       " 'Teresa Wright': 1,\n",
       " 'Paul Lukas': 1,\n",
       " 'Charles Coburn': 1,\n",
       " 'Jennifer Jones': 1,\n",
       " 'Katina Paxinou': 1,\n",
       " 'Bing Crosby': 1,\n",
       " 'Barry Fitzgerald': 1,\n",
       " 'Ingrid Bergman': 3,\n",
       " 'Ethel Barrymore': 1,\n",
       " 'Ray Milland': 1,\n",
       " 'James Dunn': 1,\n",
       " 'Joan Crawford': 1,\n",
       " 'Anne Revere': 1,\n",
       " 'Fredric March': 1,\n",
       " 'Harold Russell': 1,\n",
       " 'Olivia de Havilland': 2,\n",
       " 'Anne Baxter': 1,\n",
       " 'Ronald Colman': 1,\n",
       " 'Edmund Gwenn': 1,\n",
       " 'Loretta Young': 1,\n",
       " 'Celeste Holm': 1,\n",
       " 'Laurence Olivier': 1,\n",
       " 'Walter Huston': 1,\n",
       " 'Jane Wyman': 1,\n",
       " 'Claire Trevor': 1,\n",
       " 'Broderick Crawford': 1,\n",
       " 'Dean Jagger': 1,\n",
       " 'Mercedes McCambridge': 1,\n",
       " 'José Ferrer': 1,\n",
       " 'George Sanders': 1,\n",
       " 'Judy Holliday': 1,\n",
       " 'Josephine Hull': 1,\n",
       " 'Humphrey Bogart': 1,\n",
       " 'Karl Malden': 1,\n",
       " 'Kim Hunter': 1,\n",
       " 'Anthony Quinn': 2,\n",
       " 'Shirley Booth': 1,\n",
       " 'Gloria Grahame': 1,\n",
       " 'William Holden': 1,\n",
       " 'Frank Sinatra': 1,\n",
       " 'Audrey Hepburn': 1,\n",
       " 'Donna Reed': 1,\n",
       " 'Marlon Brando': 2,\n",
       " \"Edmond O'Brien\": 1,\n",
       " 'Grace Kelly': 1,\n",
       " 'Eva Marie Saint': 1,\n",
       " 'Ernest Borgnine': 1,\n",
       " 'Jack Lemmon': 2,\n",
       " 'Anna Magnani': 1,\n",
       " 'Jo Van Fleet': 1,\n",
       " 'Yul Brynner': 1,\n",
       " 'Dorothy Malone': 1,\n",
       " 'Alec Guinness': 1,\n",
       " 'Red Buttons': 1,\n",
       " 'Joanne Woodward': 1,\n",
       " 'Miyoshi Umeki': 1,\n",
       " 'David Niven': 1,\n",
       " 'Burl Ives': 1,\n",
       " 'Susan Hayward': 1,\n",
       " 'Wendy Hiller': 1,\n",
       " 'Charlton Heston': 1,\n",
       " 'Hugh Griffith': 1,\n",
       " 'Simone Signoret': 1,\n",
       " 'Shelley Winters': 2,\n",
       " 'Burt Lancaster': 1,\n",
       " 'Peter Ustinov': 2,\n",
       " 'Elizabeth Taylor': 2,\n",
       " 'Shirley Jones': 1,\n",
       " 'Maximilian Schell': 1,\n",
       " 'George Chakiris': 1,\n",
       " 'Sophia Loren': 1,\n",
       " 'Rita Moreno': 1,\n",
       " 'Gregory Peck': 1,\n",
       " 'Ed Begley': 1,\n",
       " 'Anne Bancroft': 1,\n",
       " 'Patty Duke': 1,\n",
       " 'Sidney Poitier': 1,\n",
       " 'Melvyn Douglas': 2,\n",
       " 'Patricia Neal': 1,\n",
       " 'Margaret Rutherford': 1,\n",
       " 'Rex Harrison': 1,\n",
       " 'Julie Andrews': 1,\n",
       " 'Lila Kedrova': 1,\n",
       " 'Lee Marvin': 1,\n",
       " 'Martin Balsam': 1,\n",
       " 'Julie Christie': 1,\n",
       " 'Paul Scofield': 1,\n",
       " 'Walter Matthau': 1,\n",
       " 'Sandy Dennis': 1,\n",
       " 'Rod Steiger': 1,\n",
       " 'George Kennedy': 1,\n",
       " 'Katharine Hepburn': 3,\n",
       " 'Estelle Parsons': 1,\n",
       " 'Cliff Robertson': 1,\n",
       " 'Jack Albertson': 1,\n",
       " 'Barbra Streisand': 1,\n",
       " 'Ruth Gordon': 1,\n",
       " 'John Wayne': 1,\n",
       " 'Gig Young': 1,\n",
       " 'Maggie Smith': 2,\n",
       " 'Goldie Hawn': 1,\n",
       " 'George C. Scott': 1,\n",
       " 'John Mills': 1,\n",
       " 'Glenda Jackson': 2,\n",
       " 'Helen Hayes': 1,\n",
       " 'Sally Kellerman': 1,\n",
       " 'Gene Hackman': 2,\n",
       " 'Ben Johnson': 1,\n",
       " 'Jane Fonda': 2,\n",
       " 'Cloris Leachman': 1,\n",
       " 'Joel Grey': 1,\n",
       " 'Liza Minnelli': 1,\n",
       " 'Eileen Heckart': 1,\n",
       " 'John Houseman': 1,\n",
       " \"Tatum O'Neal\": 1,\n",
       " 'Art Carney': 1,\n",
       " 'Robert De Niro': 2,\n",
       " 'Ellen Burstyn': 1,\n",
       " 'Jack Nicholson': 3,\n",
       " 'George Burns': 1,\n",
       " 'Louise Fletcher': 1,\n",
       " 'Lee Grant': 1,\n",
       " 'Peter Finch': 1,\n",
       " 'Jason Robards': 2,\n",
       " 'Faye Dunaway': 1,\n",
       " 'Beatrice Straight': 1,\n",
       " 'Richard Dreyfuss': 1,\n",
       " 'Diane Keaton': 1,\n",
       " 'Vanessa Redgrave': 1,\n",
       " 'Jon Voight': 1,\n",
       " 'Christopher Walken': 1,\n",
       " 'Dustin Hoffman': 2,\n",
       " 'Sally Field': 2,\n",
       " 'Meryl Streep': 3,\n",
       " 'Timothy Hutton': 1,\n",
       " 'Sissy Spacek': 1,\n",
       " 'Mary Steenburgen': 1,\n",
       " 'Henry Fonda': 1,\n",
       " 'John Gielgud': 1,\n",
       " 'Maureen Stapleton': 1,\n",
       " 'Ben Kingsley': 1,\n",
       " 'Louis Gossett, Jr.': 1,\n",
       " 'Jessica Lange': 2,\n",
       " 'Robert Duvall': 1,\n",
       " 'Shirley MacLaine': 1,\n",
       " 'Linda Hunt': 1,\n",
       " 'F. Murray Abraham': 1,\n",
       " 'Haing S. Ngor': 1,\n",
       " 'Peggy Ashcroft': 1,\n",
       " 'William Hurt': 1,\n",
       " 'Don Ameche': 1,\n",
       " 'Geraldine Page': 1,\n",
       " 'Anjelica Huston': 1,\n",
       " 'Paul Newman': 1,\n",
       " 'Michael Caine': 2,\n",
       " 'Marlee Matlin': 1,\n",
       " 'Dianne Wiest': 2,\n",
       " 'Michael Douglas': 1,\n",
       " 'Sean Connery': 1,\n",
       " 'Cher': 1,\n",
       " 'Olympia Dukakis': 1,\n",
       " 'Kevin Kline': 1,\n",
       " 'Jodie Foster': 2,\n",
       " 'Geena Davis': 1,\n",
       " 'Daniel Day Lewis': 1,\n",
       " 'Denzel Washington': 2,\n",
       " 'Jessica Tandy': 1,\n",
       " 'Brenda Fricker': 1,\n",
       " 'Jeremy Irons': 1,\n",
       " 'Joe Pesci': 1,\n",
       " 'Kathy Bates': 1,\n",
       " 'Whoopi Goldberg': 1,\n",
       " 'Anthony Hopkins': 1,\n",
       " 'Jack Palance': 1,\n",
       " 'Mercedes Ruehl': 1,\n",
       " 'Al Pacino': 1,\n",
       " 'Emma Thompson': 1,\n",
       " 'Marisa Tomei': 1,\n",
       " 'Tom Hanks': 2,\n",
       " 'Tommy Lee Jones': 1,\n",
       " 'Holly Hunter': 1,\n",
       " 'Anna Paquin': 1,\n",
       " 'Martin Landau': 1,\n",
       " 'Nicolas Cage': 1,\n",
       " 'Kevin Spacey': 2,\n",
       " 'Susan Sarandon': 1,\n",
       " 'Mira Sorvino': 1,\n",
       " 'Geoffrey Rush': 1,\n",
       " 'Cuba Gooding, Jr.': 1,\n",
       " 'Frances McDormand': 2,\n",
       " 'Juliette Binoche': 1,\n",
       " 'Robin Williams': 1,\n",
       " 'Helen Hunt': 1,\n",
       " 'Kim Basinger': 1,\n",
       " 'Roberto Benigni': 1,\n",
       " 'James Coburn': 1,\n",
       " 'Gwyneth Paltrow': 1,\n",
       " 'Judi Dench': 1,\n",
       " 'Hilary Swank': 2,\n",
       " 'Angelina Jolie': 1,\n",
       " 'Russell Crowe': 1,\n",
       " 'Benicio Del Toro': 1,\n",
       " 'Julia Roberts': 1,\n",
       " 'Marcia Gay Harden': 1,\n",
       " 'Jim Broadbent': 1,\n",
       " 'Halle Berry': 1,\n",
       " 'Jennifer Connelly': 1,\n",
       " 'Adrien Brody': 1,\n",
       " 'Chris Cooper': 1,\n",
       " 'Nicole Kidman': 1,\n",
       " 'Catherine Zeta-Jones': 1,\n",
       " 'Sean Penn': 2,\n",
       " 'Tim Robbins': 1,\n",
       " 'Charlize Theron': 1,\n",
       " 'Renée Zellweger': 1,\n",
       " 'Jamie Foxx': 1,\n",
       " 'Morgan Freeman': 1,\n",
       " 'Cate Blanchett': 2,\n",
       " 'Philip Seymour Hoffman': 1,\n",
       " 'George Clooney': 1,\n",
       " 'Reese Witherspoon': 1,\n",
       " 'Rachel Weisz': 1,\n",
       " 'Forest Whitaker': 1,\n",
       " 'Alan Arkin': 1,\n",
       " 'Helen Mirren': 1,\n",
       " 'Jennifer Hudson': 1,\n",
       " 'Daniel Day-Lewis': 2,\n",
       " 'Javier Bardem': 1,\n",
       " 'Marion Cotillard': 1,\n",
       " 'Tilda Swinton': 1,\n",
       " 'Heath Ledger': 1,\n",
       " 'Kate Winslet': 1,\n",
       " 'Penélope Cruz': 1,\n",
       " 'Jeff Bridges': 1,\n",
       " 'Christoph Waltz': 2,\n",
       " 'Sandra Bullock': 1,\n",
       " \"Mo'Nique\": 1,\n",
       " 'Colin Firth': 1,\n",
       " 'Christian Bale': 1,\n",
       " 'Natalie Portman': 1,\n",
       " 'Melissa Leo': 1,\n",
       " 'Jean Dujardin': 1,\n",
       " 'Christopher Plummer': 1,\n",
       " 'Octavia Spencer': 1,\n",
       " 'Jennifer Lawrence': 1,\n",
       " 'Anne Hathaway': 1,\n",
       " 'Matthew McConaughey': 1,\n",
       " 'Jared Leto': 1,\n",
       " \"Lupita Nyong'o\": 1,\n",
       " 'Eddie Redmayne': 1,\n",
       " 'J.K. Simmons': 1,\n",
       " 'Julianne Moore': 1,\n",
       " 'Patricia Arquette': 1,\n",
       " 'Leonardo DiCaprio': 1,\n",
       " 'Mark Rylance': 1,\n",
       " 'Brie Larson': 1,\n",
       " 'Alicia Vikander': 1,\n",
       " 'Casey Affleck': 1,\n",
       " 'Emma Stone': 1,\n",
       " 'Mahershala Ali': 1,\n",
       " 'Viola Davis': 1,\n",
       " 'Gary Oldman': 1,\n",
       " 'Sam Rockwell': 1,\n",
       " 'Allison Janney': 1}"
      ]
     },
     "execution_count": 4,
     "metadata": {},
     "output_type": "execute_result"
    }
   ],
   "source": [
    "OscarActorWinnersDupe = getDict(actorAwards, starAwards = False)\n",
    "OscarActorNomsDupe = getDict(actorAwards, nomination, starAwards = False)\n",
    "OscarDirWinnersDupe = getDict(directorAwards, name = filmCSV, film = nameCSV, starAwards = False)\n",
    "OscarDirNomsDupe = getDict(directorAwards, nomination, name = filmCSV, film = nameCSV, starAwards = False)\n",
    "#These are the same as the dictionaries above except that for the starAwards = False tag. Using this simply returns\n",
    "#a dictionary of the form Dict[year][actor] = oscars won in year, instead of Dict[year][actor] = movie, num oscars\n",
    "#Simply makes it easier to deal with just the numbers\n",
    "\n",
    "\n",
    "startYear = 1934 + 1\n",
    "endYear = 2018\n",
    "def getRunningTotal(Dict):\n",
    "    \"\"\"Returns a dictionary that contains the amount\n",
    "    of awards a actor/director has received at a given time\"\"\"\n",
    "    totalDict = {}\n",
    "    totalDict[startYear] = Dict[startYear]\n",
    "            \n",
    "    for year in range(startYear + 1, endYear + 1):\n",
    "        totalDict[year] = {}\n",
    "        totalDict[year].update(totalDict[year - 1]) #update dictionary with previous year to keep a running total each year\n",
    "    \n",
    "        for key, value in Dict[year].items():\n",
    "            try:\n",
    "                totalDict[year][key] += 1 #if the actor is already present increment by 1\n",
    "            except:\n",
    "                totalDict[year][key] = 1 #set it to 1 if not already present\n",
    "    return totalDict\n",
    "\n",
    "OscarActorWinnersTot = getRunningTotal(OscarActorWinnersDupe)\n",
    "OscarActorNomsTot = getRunningTotal(OscarActorNomsDupe)\n",
    "OscarDirWinnersTot = getRunningTotal(OscarDirWinnersDupe)\n",
    "OscarDirNomsTot = getRunningTotal(OscarDirNomsDupe)\n",
    "\n",
    "print(OscarActorWinnersTot[1953]['Anthony Quinn'])\n",
    "print(OscarActorWinnersTot[1957]['Anthony Quinn']) #Anthony won an Oscar in 1953 and 1957\n",
    "OscarActorWinnersTot[2018]"
   ]
  },
  {
   "cell_type": "code",
   "execution_count": 5,
   "metadata": {},
   "outputs": [
    {
     "name": "stdout",
     "output_type": "stream",
     "text": [
      "Frank Capra\n",
      "3\n",
      "John Ford\n",
      "4\n",
      "Leo McCarey\n",
      "2\n",
      "William Wyler\n",
      "3\n",
      "Billy Wilder\n",
      "2\n",
      "Elia Kazan\n",
      "2\n",
      "Joseph L. Mankiewicz\n",
      "2\n",
      "George Stevens\n",
      "2\n",
      "Fred Zinnemann\n",
      "2\n",
      "David Lean\n",
      "2\n",
      "Milos Forman\n",
      "2\n",
      "Oliver Stone\n",
      "2\n",
      "Clint Eastwood\n",
      "2\n",
      "Steven Spielberg\n",
      "2\n",
      "Ang Lee\n",
      "2\n",
      "Alejandro G. Iñárritu\n",
      "2\n",
      "Walter Brennan\n",
      "3\n",
      "Ingrid Bergman\n",
      "3\n",
      "Katharine Hepburn\n",
      "3\n",
      "Jack Nicholson\n",
      "3\n",
      "Meryl Streep\n",
      "3\n"
     ]
    }
   ],
   "source": [
    "for key, value in OscarDirWinnersTot[2018].items(): #Directors that won multiple awards (just for fun lol)\n",
    "    if value >= 2:\n",
    "        print(key)\n",
    "        print(value)\n",
    "        \n",
    "for key, value in OscarActorWinnersTot[2018].items(): #Actors that won multiple awards (just for fun lol)\n",
    "    if value >= 3:\n",
    "        print(key)\n",
    "        print(value)"
   ]
  },
  {
   "cell_type": "code",
   "execution_count": 71,
   "metadata": {},
   "outputs": [],
   "source": [
    "urlArray = []\n",
    "\n",
    "numMovies = 1000 #numMovies must be less than 300,908, numMovies % 50 must be 0\n",
    "\n",
    "for i in range(1, numMovies - 48, 50): #create an array of urls to iterate through\n",
    "    urlArray.append('https://www.imdb.com/search/title?title_type=feature&release_date=1950-01-01,2017-12-31&start='\n",
    "                    + str(i) + '&ref_=adv_nxt')"
   ]
  },
  {
   "cell_type": "code",
   "execution_count": 7,
   "metadata": {},
   "outputs": [],
   "source": [
    "def cleanData(year_, genre, runtime, box_office, votes):\n",
    "    year1 = ''.join(c for c in year_ if c.isdigit()) #remove non-numeric characters from year\n",
    "    \n",
    "    genre1 = ''.join(c for c in genre if (c != '\\n')) #original data has '\\n' scattered around... remove those\n",
    "    \n",
    "    runtime1 = ''.join(c for c in runtime if c.isdigit()) #remove non-numeric characters from runtime\n",
    "    \n",
    "    box = ''.join(c for c in box_office if (c.isdigit() or c == '.')) #remove non-numeric characters, but keep the decimal\n",
    "    box = round(float(box) * (10**6)) #original is in millions\n",
    "    \n",
    "    votes1 = ''.join(c for c in votes if c.isdigit()) #remove non-numeric characters from year\n",
    "    \n",
    "    \n",
    "    return int(year1), genre1, int(runtime1), box, int(votes1)"
   ]
  },
  {
   "cell_type": "code",
   "execution_count": 8,
   "metadata": {},
   "outputs": [],
   "source": [
    "def normalize(runtime, gross):\n",
    "    nor_runtime = np.divide(runtime,max(runtime))\n",
    "    nor_gross = np.divide(gross,max(gross))\n",
    "    return nor_runtime, nor_gross"
   ]
  },
  {
   "cell_type": "code",
   "execution_count": 9,
   "metadata": {},
   "outputs": [
    {
     "name": "stdout",
     "output_type": "stream",
     "text": [
      "Movies released in 1990 have a multiplier of 1.9345070969999998 to their gross to adjust for inflation\n"
     ]
    }
   ],
   "source": [
    "CPIdict = {}\n",
    "CPIread = pd.read_csv('CPI.csv') #CPI.csv contains the multiplication factor to get from a given year to 2019 to adjust\n",
    "                                 #for inflation\n",
    "for i in range(len(CPIread[\"Growth\"] + 1)):\n",
    "     CPIdict[CPIread[\"Year\"][i]] = CPIread[\"To 2019\"][i]\n",
    "print(\"Movies released in 1990 have a multiplier of\", CPIdict[1990], \"to their gross to adjust for inflation\")"
   ]
  },
  {
   "cell_type": "code",
   "execution_count": 10,
   "metadata": {},
   "outputs": [],
   "source": [
    "def inflationAdjust(year, box_office):\n",
    "    return int(round(box_office * CPIdict[year])) #multiplies the gross value by the multiplication factor for the year\n",
    "                                                  #it was released"
   ]
  },
  {
   "cell_type": "code",
   "execution_count": 11,
   "metadata": {},
   "outputs": [],
   "source": [
    "def getOscarNum(actor1, actor2, actor3, actor4, actor5, movieName, releaseYear):\n",
    "    stars = []\n",
    "    stars.extend([actor1, actor2, actor3, actor4, actor5])\n",
    "    prevStarWins = prevStarNoms = starWins = starNoms = movieWins = movieNoms = otherWins = otherNoms = 0\n",
    "    oscarYear = releaseYear + 1\n",
    "    for star in stars:\n",
    "        if star != '': #Checks how many oscar nominations and wins the directors and actors have prior to this movie\n",
    "            prevStarWins += checkDict(star, OscarDirWinnersTot, releaseYear) #\n",
    "            prevStarWins += checkDict(star, OscarActorWinnersTot, releaseYear)\n",
    "            prevStarNoms += checkDict(star, OscarDirNomsTot, releaseYear)\n",
    "            prevStarNoms += checkDict(star, OscarActorNomsTot, releaseYear)\n",
    "            starWins += checkDict(star, OscarDirWinners, oscarYear, movie = movieName)\n",
    "            starWins += checkDict(star, OscarActorWinners, oscarYear, movie = movieName)\n",
    "            starNoms += checkDict(star, OscarDirNoms, oscarYear, movie = movieName)\n",
    "            starNoms += checkDict(star, OscarActorNoms, oscarYear, movie = movieName)\n",
    "    #Checks num of nominations/wins this movie received\n",
    "    movieWins += checkDict(movieName, movieWinners, oscarYear)\n",
    "    movieNoms += checkDict(movieName, movieNoms, oscarYear)\n",
    "    otherWins += checkDict(movieName, otherAwardWinners, oscarYear)\n",
    "    otherNoms += checkDict(movieName, otherAwardNoms, oscarYear)\n",
    "    return prevStarWins, prevStarNoms, starWins, starNoms, movieWins, movieNoms, otherWins, otherNoms\n",
    "        \n",
    "def checkDict(name, Dict, year, movie = None):\n",
    "    num = 0\n",
    "    movieName = []\n",
    "    if movie == None:\n",
    "        try:\n",
    "            num += Dict[year][name]       \n",
    "        except:\n",
    "            pass\n",
    "    else:\n",
    "        try:\n",
    "            movieName = Dict[year][name][0]\n",
    "            if movieName == movie:\n",
    "                num += 1\n",
    "        except:\n",
    "            pass\n",
    "    return num"
   ]
  },
  {
   "cell_type": "code",
   "execution_count": 12,
   "metadata": {},
   "outputs": [
    {
     "data": {
      "text/plain": [
       "(0, 1, 1, 0, 0, 0, 1, 3)"
      ]
     },
     "execution_count": 12,
     "metadata": {},
     "output_type": "execute_result"
    }
   ],
   "source": [
    "x = getOscarNum('Gary Oldman', '', '', '', '', 'Darkest Hour', 2017)\n",
    "x #Gary won an award for his role in Darkest Hour -- starWins is 1"
   ]
  },
  {
   "cell_type": "code",
   "execution_count": 13,
   "metadata": {},
   "outputs": [
    {
     "data": {
      "text/plain": [
       "(0, 1, 0, 0, 0, 0, 0, 0)"
      ]
     },
     "execution_count": 13,
     "metadata": {},
     "output_type": "execute_result"
    }
   ],
   "source": [
    "x = getOscarNum('Gary Oldman', '', '', '', '', 'not a real movie', 2017)\n",
    "x #Gary didn't win an award for this movie -- starWins is 0"
   ]
  },
  {
   "cell_type": "code",
   "execution_count": 72,
   "metadata": {
    "scrolled": true
   },
   "outputs": [
    {
     "name": "stdout",
     "output_type": "stream",
     "text": [
      "Missing data for: Love\n",
      "Missing data for: I'm Not Here\n",
      "Missing data for: Exposed\n",
      "Missing data for: A Star Is Born\n",
      "Missing data for: A Clockwork Orange\n",
      "Missing data for: The Love Witch\n",
      "Missing data for: Unicorn Store\n",
      "Missing data for: Contratiempo\n",
      "Missing data for: McQ\n",
      "Missing data for: Mine\n",
      "Missing data for: Aterrados\n",
      "Missing data for: Thunderbolt and Lightfoot\n",
      "Missing data for: Bright\n",
      "Missing data for: Der Mann aus dem Eis\n",
      "Missing data for: Gerald's Game\n",
      "Missing data for: Caligola\n",
      "Missing data for: Get Carter\n",
      "Missing data for: Once Upon a Time in America\n",
      "Missing data for: The Sand\n",
      "Missing data for: Salò o le 120 giornate di Sodoma\n",
      "Missing data for: It Came from Beneath the Sea\n",
      "Missing data for: Flash Gordon\n",
      "Missing data for: Elle\n",
      "Missing data for: Brimstone\n",
      "Missing data for: Così fan tutte\n",
      "Missing data for: What Happened to Monday\n",
      "Missing data for: The Room\n",
      "Missing data for: The Autopsy of Jane Doe\n",
      "Missing data for: Hawaii\n",
      "Missing data for: The Promise\n",
      "Missing data for: Srpski film\n",
      "Missing data for: The Ritual\n",
      "Missing data for: Real Genius\n",
      "Missing data for: Habitación en Roma\n",
      "Missing data for: Would You Rather\n",
      "Missing data for: Suspiria\n",
      "Missing data for: The Sandlot\n",
      "Missing data for: Shot Caller\n",
      "Missing data for: Death Proof\n",
      "Missing data for: Dead Poets Society\n",
      "Missing data for: The Invitation\n",
      "Missing data for: Basmati Blues\n",
      "Missing data for: Secret Admirer\n",
      "Missing data for: Mudbound\n",
      "Missing data for: Below Her Mouth\n",
      "Missing data for: Hot Summer Nights\n",
      "Missing data for: Annie\n",
      "Missing data for: Dangal\n",
      "Missing data for: Stratton\n",
      "Missing data for: The Big Sky\n",
      "Missing data for: Broadcast News\n",
      "Missing data for: Bone Tomahawk\n",
      "Missing data for: Coma\n",
      "Missing data for: To Kill a Mockingbird\n",
      "Missing data for: Hush\n",
      "Missing data for: The Detained\n",
      "Missing data for: Martyrs\n",
      "Missing data for: The Ridiculous 6\n",
      "Missing data for: 1922\n",
      "Missing data for: Striptease\n",
      "Missing data for: The Babysitter\n",
      "Missing data for: Simon\n",
      "Missing data for: Lolita\n",
      "Missing data for: The Super\n",
      "Missing data for: Deliverance\n",
      "Missing data for: Honey, I Shrunk the Kids\n"
     ]
    }
   ],
   "source": [
    "names = []\n",
    "year = []\n",
    "genres = []\n",
    "runtimes = []\n",
    "metascores = []\n",
    "imdbRatings = []\n",
    "audienceRating = []\n",
    "movieGross = []\n",
    "directors =[]\n",
    "movieGrossInflation = []\n",
    "Star1 = []\n",
    "Star2 = []\n",
    "Star3 = []\n",
    "Star4 = []\n",
    "Star5 = []\n",
    "res = []\n",
    "\n",
    "missingData = 0\n",
    "\n",
    "for url in urlArray:\n",
    "    response = get(url)\n",
    "    html_soup = BeautifulSoup(response.text, 'html.parser')\n",
    "    movie_cont = html_soup.find_all('div', class_ = 'lister-item mode-advanced')\n",
    "    \n",
    "    for movie in movie_cont:\n",
    "        name = movie.h3.a.text\n",
    "        try:\n",
    "            year_ = movie.h3.find('span', class_ = 'lister-item-year text-muted unbold').text\n",
    "            genre = movie.p.find('span', class_ = 'genre').text\n",
    "            runtime = movie.p.find('span', class_ = 'runtime').text\n",
    "            viewer_rating = movie.p.span.text\n",
    "            if viewer_rating == runtime:\n",
    "                raise ValueError\n",
    "            m_score = movie.find('span', class_ = 'metascore').text\n",
    "            imdb_rating = float(movie.strong.text)\n",
    "            box_office = movie.find_all('span', attrs = {'name': 'nv'})[1].text\n",
    "            votes = movie.find_all('span', attrs = {'name': 'nv'})[0].text\n",
    "            people = movie.find_all('p', class_ = '')[1]\n",
    "            people = people.find_all('a')\n",
    "            director = people[0].text\n",
    "            actor1 = people[1].text\n",
    "            \n",
    "            #This try/except block is just in case lesser known movies are missing actors (might happen when\n",
    "            #numMovies is set to like 10000, and I don't think it's a big deal as long as we have one actor + director)\n",
    "            try:\n",
    "                actor2 = people[2].text\n",
    "            except:\n",
    "                actor2 = ''\n",
    "            try:\n",
    "                actor3 = people[3].text\n",
    "            except:\n",
    "                actor3 = ''\n",
    "            try:\n",
    "                actor4 = people[4].text\n",
    "            except:\n",
    "                actor4 = ''\n",
    "            try:\n",
    "                actor5 = people[5].text\n",
    "            except:\n",
    "                actor5 =''\n",
    "            \n",
    "            year_, genre, runtime, box_office, votes = cleanData(year_, genre, runtime, box_office, votes) #clean up data\n",
    "            \n",
    "            box_office_inflation = inflationAdjust(year_, box_office) #adjust for inflation\n",
    "            \n",
    "            numStarWins, numStarNoms, starWin, starNom, numMovieWins, numMovieNoms, numOtherWins, numOtherNoms = getOscarNum(actor1, actor2, actor3, actor4, actor5, name, year_)\n",
    "                \n",
    "            res.append((name, year_, genre, runtime, director, actor1, actor2, actor3, actor4, actor5,\n",
    "                        viewer_rating, m_score, imdb_rating, votes, box_office, box_office_inflation, numStarWins, \n",
    "                        numStarNoms, starWin, starNom, numMovieWins, numMovieNoms, numOtherWins, numOtherNoms))\n",
    "        except:\n",
    "            print(\"Missing data for:\", name)\n",
    "            missingData += 1\n",
    "            \n",
    "(names, year, genres, runtimes, directors, Star1, Star2, Star3, Star4, Star5, audienceRatings, metascores, \n",
    "imdbRatings, numVotes, movieGross, movieGrossInflation, starWinsList, starNomsList, starWon, starNom, movieWinsList, movieNomsList, \n",
    "otherWinsList, otherNomsList) = zip(*res)\n",
    "\n",
    "\n",
    "runtime_normal, box_normal = normalize(runtimes, movieGrossInflation)#Normalize the number data"
   ]
  },
  {
   "cell_type": "code",
   "execution_count": 73,
   "metadata": {},
   "outputs": [
    {
     "name": "stdout",
     "output_type": "stream",
     "text": [
      "Number of movies missing data: 66\n",
      "Total movies with data: 934\n"
     ]
    }
   ],
   "source": [
    "print(\"Number of movies missing data:\", missingData)\n",
    "print(\"Total movies with data:\", numMovies - missingData)"
   ]
  },
  {
   "cell_type": "markdown",
   "metadata": {},
   "source": [
    "This part below takes in the genre list, it creates a one-hot list to make it numerical for regression analysis. I found that there are 191 different combinations of genres (for movies with multiple genres, it was found that the list of them is alphabetical)."
   ]
  },
  {
   "cell_type": "code",
   "execution_count": 76,
   "metadata": {},
   "outputs": [
    {
     "data": {
      "text/plain": [
       "16"
      ]
     },
     "execution_count": 76,
     "metadata": {},
     "output_type": "execute_result"
    }
   ],
   "source": [
    "genresnum = [i.replace(\" \",\"\") for i in genres]\n",
    "diff_genres = list(dict.fromkeys(genresnum))\n",
    "genre_to_int = dict((c, i) for i, c in enumerate(diff_genres))\n",
    "\n",
    "\n",
    "genre_to_int[genresnum[28]]"
   ]
  },
  {
   "cell_type": "code",
   "execution_count": 96,
   "metadata": {},
   "outputs": [
    {
     "data": {
      "text/plain": [
       "0"
      ]
     },
     "execution_count": 96,
     "metadata": {},
     "output_type": "execute_result"
    }
   ],
   "source": [
    "audienceRatingsnum = [i.replace(\" \",\"\") for i in audienceRatings]\n",
    "audienceRatingsnum = [i.replace(\"+\", '') for i in audienceRatingsnum]\n",
    "audienceRatingsnum = [i.replace(\"14A\",'14') for i in audienceRatingsnum]\n",
    "audienceRatingsnum = [i.replace(\"18A\",'18') for i in audienceRatingsnum]\n",
    "audienceRatingsnum = [i.replace(\"PG-13\",'13') for i in audienceRatingsnum]\n",
    "diff_ratings = list(dict.fromkeys(audienceRatingsnum))\n",
    "ratings_to_int = dict((c, i) for i, c in enumerate(diff_ratings))\n"
   ]
  },
  {
   "cell_type": "code",
   "execution_count": 116,
   "metadata": {},
   "outputs": [],
   "source": [
    "df = pd.DataFrame({'Name': names,\n",
    "                  'Year': year,\n",
    "                  'Genre': genresnum,\n",
    "                  'Director': directors,\n",
    "                  'Star1' : Star1,\n",
    "                  'Star2' : Star2,\n",
    "                  'Star3' : Star3,\n",
    "                  'Star4' : Star4,\n",
    "                  'Star5' : Star5,\n",
    "                  'Runtime': runtimes,\n",
    "                  'Rating': audienceRatingsnum,\n",
    "                  'Metascore': metascores,\n",
    "                  'IMDB rating': imdbRatings,\n",
    "                  'Votes': numVotes,\n",
    "                  'Gross': movieGross,\n",
    "                  'Inflation adjusted':movieGrossInflation,\n",
    "                  'Runtime Normalized': runtime_normal,\n",
    "                  'Box Office Adj. Norm.': box_normal,\n",
    "                  'numStarW' : starWinsList,\n",
    "                  'numStarN' : starNomsList,\n",
    "                  'starWon' : starWon,\n",
    "                  'starNom' :starNom,\n",
    "                  'numMovieW' : movieWinsList,\n",
    "                  'numMovieN' : movieNomsList,\n",
    "                  'numOtherW' : otherWinsList,\n",
    "                  'numOtherN' : otherNomsList})"
   ]
  },
  {
   "cell_type": "code",
   "execution_count": 117,
   "metadata": {},
   "outputs": [],
   "source": [
    "df['Rating'] = df['Rating'].apply(lambda x:ratings_to_int[x])\n",
    "df['Genre'] = df['Genre'].apply(lambda x:genre_to_int[x])\n",
    "df['Metascore'] = df['Metascore'].apply(lambda x:int(x))"
   ]
  },
  {
   "cell_type": "code",
   "execution_count": 118,
   "metadata": {},
   "outputs": [],
   "source": [
    "df.to_csv('check.csv')"
   ]
  },
  {
   "cell_type": "code",
   "execution_count": 119,
   "metadata": {},
   "outputs": [
    {
     "name": "stdout",
     "output_type": "stream",
     "text": [
      "<class 'pandas.core.frame.DataFrame'>\n",
      "RangeIndex: 934 entries, 0 to 933\n",
      "Data columns (total 26 columns):\n",
      "Name                     934 non-null object\n",
      "Year                     934 non-null int64\n",
      "Genre                    934 non-null int64\n",
      "Director                 934 non-null object\n",
      "Star1                    934 non-null object\n",
      "Star2                    934 non-null object\n",
      "Star3                    934 non-null object\n",
      "Star4                    934 non-null object\n",
      "Star5                    934 non-null object\n",
      "Runtime                  934 non-null int64\n",
      "Rating                   934 non-null int64\n",
      "Metascore                934 non-null int64\n",
      "IMDB rating              934 non-null float64\n",
      "Votes                    934 non-null int64\n",
      "Gross                    934 non-null int64\n",
      "Inflation adjusted       934 non-null int64\n",
      "Runtime Normalized       934 non-null float64\n",
      "Box Office Adj. Norm.    934 non-null float64\n",
      "numStarW                 934 non-null int64\n",
      "numStarN                 934 non-null int64\n",
      "starWon                  934 non-null int64\n",
      "starNom                  934 non-null int64\n",
      "numMovieW                934 non-null int64\n",
      "numMovieN                934 non-null int64\n",
      "numOtherW                934 non-null int64\n",
      "numOtherN                934 non-null int64\n",
      "dtypes: float64(3), int64(16), object(7)\n",
      "memory usage: 189.8+ KB\n"
     ]
    }
   ],
   "source": [
    "df.info()"
   ]
  },
  {
   "cell_type": "code",
   "execution_count": 124,
   "metadata": {},
   "outputs": [
    {
     "data": {
      "text/plain": [
       "(934, 26)"
      ]
     },
     "execution_count": 124,
     "metadata": {},
     "output_type": "execute_result"
    }
   ],
   "source": [
    "df.shape"
   ]
  },
  {
   "cell_type": "code",
   "execution_count": 225,
   "metadata": {},
   "outputs": [],
   "source": [
    "X = df['Inflation adjusted']\n",
    "#y = df.drop('Inflation adjusted', axis = 1)\n",
    "y = df.drop('Name', axis = 1)\n",
    "y = y.drop('Director', axis=1)\n",
    "y = y.drop('Star1', axis=1)\n",
    "y = y.drop('Star2', axis=1)\n",
    "y = y.drop('Star3', axis=1)\n",
    "y = y.drop('Star4', axis=1)\n",
    "y = y.drop('Star5', axis=1)\n",
    "y = y.drop('Gross', axis=1)\n",
    "y = y.drop('Runtime', axis=1)\n",
    "y = y.drop('Box Office Adj. Norm.', axis=1)"
   ]
  },
  {
   "cell_type": "code",
   "execution_count": 226,
   "metadata": {},
   "outputs": [
    {
     "data": {
      "text/html": [
       "<div>\n",
       "<style scoped>\n",
       "    .dataframe tbody tr th:only-of-type {\n",
       "        vertical-align: middle;\n",
       "    }\n",
       "\n",
       "    .dataframe tbody tr th {\n",
       "        vertical-align: top;\n",
       "    }\n",
       "\n",
       "    .dataframe thead th {\n",
       "        text-align: right;\n",
       "    }\n",
       "</style>\n",
       "<table border=\"1\" class=\"dataframe\">\n",
       "  <thead>\n",
       "    <tr style=\"text-align: right;\">\n",
       "      <th></th>\n",
       "      <th>Year</th>\n",
       "      <th>Genre</th>\n",
       "      <th>Rating</th>\n",
       "      <th>Metascore</th>\n",
       "      <th>IMDB rating</th>\n",
       "      <th>Votes</th>\n",
       "      <th>Inflation adjusted</th>\n",
       "      <th>Runtime Normalized</th>\n",
       "      <th>numStarW</th>\n",
       "      <th>numStarN</th>\n",
       "      <th>starWon</th>\n",
       "      <th>starNom</th>\n",
       "      <th>numMovieW</th>\n",
       "      <th>numMovieN</th>\n",
       "      <th>numOtherW</th>\n",
       "      <th>numOtherN</th>\n",
       "    </tr>\n",
       "  </thead>\n",
       "  <tbody>\n",
       "    <tr>\n",
       "      <th>0</th>\n",
       "      <td>2015</td>\n",
       "      <td>0</td>\n",
       "      <td>0</td>\n",
       "      <td>86</td>\n",
       "      <td>8.2</td>\n",
       "      <td>308091</td>\n",
       "      <td>15655033</td>\n",
       "      <td>0.584158</td>\n",
       "      <td>0</td>\n",
       "      <td>0</td>\n",
       "      <td>1</td>\n",
       "      <td>0</td>\n",
       "      <td>0</td>\n",
       "      <td>0</td>\n",
       "      <td>0</td>\n",
       "      <td>1</td>\n",
       "    </tr>\n",
       "    <tr>\n",
       "      <th>1</th>\n",
       "      <td>2014</td>\n",
       "      <td>1</td>\n",
       "      <td>1</td>\n",
       "      <td>76</td>\n",
       "      <td>8.1</td>\n",
       "      <td>918503</td>\n",
       "      <td>355731029</td>\n",
       "      <td>0.599010</td>\n",
       "      <td>0</td>\n",
       "      <td>2</td>\n",
       "      <td>0</td>\n",
       "      <td>0</td>\n",
       "      <td>0</td>\n",
       "      <td>0</td>\n",
       "      <td>0</td>\n",
       "      <td>0</td>\n",
       "    </tr>\n",
       "    <tr>\n",
       "      <th>2</th>\n",
       "      <td>2017</td>\n",
       "      <td>2</td>\n",
       "      <td>0</td>\n",
       "      <td>84</td>\n",
       "      <td>7.7</td>\n",
       "      <td>376606</td>\n",
       "      <td>181526815</td>\n",
       "      <td>0.514851</td>\n",
       "      <td>0</td>\n",
       "      <td>2</td>\n",
       "      <td>0</td>\n",
       "      <td>1</td>\n",
       "      <td>0</td>\n",
       "      <td>0</td>\n",
       "      <td>1</td>\n",
       "      <td>0</td>\n",
       "    </tr>\n",
       "    <tr>\n",
       "      <th>3</th>\n",
       "      <td>2010</td>\n",
       "      <td>3</td>\n",
       "      <td>1</td>\n",
       "      <td>69</td>\n",
       "      <td>7.5</td>\n",
       "      <td>334206</td>\n",
       "      <td>36501697</td>\n",
       "      <td>0.554455</td>\n",
       "      <td>0</td>\n",
       "      <td>1</td>\n",
       "      <td>0</td>\n",
       "      <td>0</td>\n",
       "      <td>0</td>\n",
       "      <td>0</td>\n",
       "      <td>0</td>\n",
       "      <td>0</td>\n",
       "    </tr>\n",
       "    <tr>\n",
       "      <th>4</th>\n",
       "      <td>2017</td>\n",
       "      <td>1</td>\n",
       "      <td>1</td>\n",
       "      <td>74</td>\n",
       "      <td>7.9</td>\n",
       "      <td>443869</td>\n",
       "      <td>324879790</td>\n",
       "      <td>0.643564</td>\n",
       "      <td>2</td>\n",
       "      <td>7</td>\n",
       "      <td>0</td>\n",
       "      <td>0</td>\n",
       "      <td>0</td>\n",
       "      <td>0</td>\n",
       "      <td>0</td>\n",
       "      <td>0</td>\n",
       "    </tr>\n",
       "  </tbody>\n",
       "</table>\n",
       "</div>"
      ],
      "text/plain": [
       "   Year  Genre  Rating  Metascore  IMDB rating   Votes  Inflation adjusted  \\\n",
       "0  2015      0       0         86          8.2  308091            15655033   \n",
       "1  2014      1       1         76          8.1  918503           355731029   \n",
       "2  2017      2       0         84          7.7  376606           181526815   \n",
       "3  2010      3       1         69          7.5  334206            36501697   \n",
       "4  2017      1       1         74          7.9  443869           324879790   \n",
       "\n",
       "   Runtime Normalized  numStarW  numStarN  starWon  starNom  numMovieW  \\\n",
       "0            0.584158         0         0        1        0          0   \n",
       "1            0.599010         0         2        0        0          0   \n",
       "2            0.514851         0         2        0        1          0   \n",
       "3            0.554455         0         1        0        0          0   \n",
       "4            0.643564         2         7        0        0          0   \n",
       "\n",
       "   numMovieN  numOtherW  numOtherN  \n",
       "0          0          0          1  \n",
       "1          0          0          0  \n",
       "2          0          1          0  \n",
       "3          0          0          0  \n",
       "4          0          0          0  "
      ]
     },
     "execution_count": 226,
     "metadata": {},
     "output_type": "execute_result"
    }
   ],
   "source": [
    "y.head()"
   ]
  },
  {
   "cell_type": "code",
   "execution_count": 227,
   "metadata": {},
   "outputs": [],
   "source": [
    "from sklearn.model_selection import train_test_split\n",
    "\n",
    "X_train, X_test, y_train, y_test = train_test_split(X, y, test_size=0.2, random_state=1)"
   ]
  },
  {
   "cell_type": "code",
   "execution_count": 241,
   "metadata": {},
   "outputs": [
    {
     "data": {
      "text/plain": [
       "0.9999999970529897"
      ]
     },
     "execution_count": 241,
     "metadata": {},
     "output_type": "execute_result"
    }
   ],
   "source": [
    "from sklearn.preprocessing import normalize\n",
    "\n",
    "y_norm = normalize(y)\n",
    "np.amax(y_norm)"
   ]
  },
  {
   "cell_type": "code",
   "execution_count": 229,
   "metadata": {},
   "outputs": [
    {
     "data": {
      "text/plain": [
       "PCA(copy=True, iterated_power='auto', n_components=None, random_state=None,\n",
       "  svd_solver='auto', tol=0.0, whiten=False)"
      ]
     },
     "execution_count": 229,
     "metadata": {},
     "output_type": "execute_result"
    }
   ],
   "source": [
    "pca = PCA()\n",
    "pca.fit(y_norm)"
   ]
  },
  {
   "cell_type": "code",
   "execution_count": 230,
   "metadata": {},
   "outputs": [
    {
     "data": {
      "text/plain": [
       "array([[ 1.79471283e-02,  3.39137364e-04,  2.36884998e-05,\n",
       "         4.30351114e-04,  5.84056631e-05,  8.44324505e-01,\n",
       "        -5.35531256e-01,  4.41653383e-06,  1.23182568e-06,\n",
       "         5.80555204e-06, -7.16783485e-10,  6.73495666e-09,\n",
       "        -1.05355477e-10,  0.00000000e+00, -5.92370837e-10,\n",
       "        -2.30393971e-09],\n",
       "       [-4.96391341e-02, -1.16745809e-03, -1.26176673e-04,\n",
       "        -1.30609308e-03, -1.45958304e-04, -5.34203007e-01,\n",
       "        -8.43895727e-01, -1.20686381e-05,  1.92227309e-06,\n",
       "         6.10583623e-06, -3.38208366e-09, -1.51273127e-07,\n",
       "         3.37254176e-10,  0.00000000e+00,  2.57455713e-09,\n",
       "         6.52708541e-09],\n",
       "       [ 9.98228030e-01,  2.00367543e-02,  1.51462308e-03,\n",
       "         1.84056012e-02,  2.97195442e-03, -4.17514787e-02,\n",
       "        -3.23446001e-02,  2.40718729e-04, -2.91821979e-05,\n",
       "        -1.35916432e-04, -8.29391928e-08, -1.54756539e-06,\n",
       "        -1.77588336e-09, -0.00000000e+00, -1.11562170e-09,\n",
       "        -2.05659105e-08],\n",
       "       [-2.47278454e-02,  9.52513481e-01,  6.19452896e-03,\n",
       "         3.03394904e-01, -2.90851472e-03, -1.59063688e-04,\n",
       "        -2.32473695e-04,  5.92742378e-04,  9.01302291e-04,\n",
       "         3.17154349e-03, -8.21359064e-07, -7.25589661e-06,\n",
       "        -6.10737196e-08, -0.00000000e+00, -3.11750354e-07,\n",
       "        -1.37868548e-06],\n",
       "       [ 1.14211370e-02,  3.03733824e-01, -1.92269474e-02,\n",
       "        -9.52049164e-01,  2.83767918e-02,  2.56683134e-04,\n",
       "         2.17031350e-04, -1.20205607e-03,  1.93327338e-03,\n",
       "         6.12347793e-03,  2.63726217e-06,  3.30696304e-05,\n",
       "        -9.51764551e-08, -0.00000000e+00, -7.74712874e-07,\n",
       "        -5.87720710e-06],\n",
       "       [ 1.28181543e-03, -2.03735273e-04, -9.93743859e-01,\n",
       "         1.95312319e-02, -3.90732025e-02,  1.77025240e-05,\n",
       "         3.94198465e-05,  1.00474480e-02,  3.52918355e-02,\n",
       "         9.59993045e-02,  2.70518393e-05,  9.67949726e-04,\n",
       "        -2.52551234e-07, -0.00000000e+00, -6.42835513e-06,\n",
       "         4.98586666e-05],\n",
       "       [-1.70910754e-04, -5.41626962e-03,  9.96486614e-02,\n",
       "         4.72832662e-03,  5.97648084e-02, -1.09160051e-05,\n",
       "        -6.23707561e-07,  3.83160465e-03,  2.63572460e-01,\n",
       "         9.57580967e-01, -6.99108107e-05, -3.63962406e-04,\n",
       "        -7.78136197e-07, -0.00000000e+00,  6.85679009e-06,\n",
       "         1.43397685e-04],\n",
       "       [ 3.32138196e-03,  5.60881963e-03,  4.43896025e-02,\n",
       "        -2.83968299e-02, -9.96960354e-01,  9.63650926e-06,\n",
       "         1.02797566e-06, -5.99960741e-03,  2.48642808e-02,\n",
       "         5.09559639e-02,  5.75475853e-05,  1.06339400e-05,\n",
       "         2.19369599e-06,  0.00000000e+00,  4.58991769e-06,\n",
       "        -6.02866604e-05],\n",
       "       [ 2.58369972e-05,  1.32897279e-04, -6.54521807e-03,\n",
       "        -5.89417820e-04, -1.14603527e-02, -4.13136415e-07,\n",
       "         1.23054701e-07,  1.42606330e-01, -9.53956227e-01,\n",
       "         2.63407482e-01, -1.13983889e-03,  7.03063260e-03,\n",
       "        -1.03616027e-05, -0.00000000e+00, -5.27079433e-04,\n",
       "        -4.67956412e-03],\n",
       "       [-2.10684018e-04, -1.68411101e-04,  1.08659952e-02,\n",
       "        -1.64641855e-03, -4.19375559e-03,  2.63753980e-07,\n",
       "        -3.61933507e-08,  9.89528064e-01,  1.36064235e-01,\n",
       "        -4.22806217e-02,  8.48469316e-04, -1.95511089e-02,\n",
       "        -9.95772202e-05, -0.00000000e+00,  2.40708375e-04,\n",
       "         3.40708740e-03],\n",
       "       [-4.32038095e-06, -7.77731218e-06,  1.22059998e-03,\n",
       "        -1.20402645e-05,  4.49010048e-05, -1.69016136e-07,\n",
       "        -2.17049132e-07,  1.72956772e-02,  8.09226748e-03,\n",
       "        -2.08581555e-03,  2.79064626e-02,  9.75773342e-01,\n",
       "         6.65418431e-03, -0.00000000e+00,  2.20901237e-02,\n",
       "         2.14906714e-01],\n",
       "       [ 2.03491262e-06,  7.21905136e-06, -3.01848718e-04,\n",
       "        -2.42758517e-06, -1.09927227e-04,  4.11629471e-08,\n",
       "         5.11062277e-08, -6.70136603e-03, -7.03764079e-03,\n",
       "         1.78416152e-03,  1.30207279e-01, -2.17764075e-01,\n",
       "         2.81369414e-02,  0.00000000e+00,  8.37340682e-02,\n",
       "         9.63184337e-01],\n",
       "       [-1.43730746e-07, -1.15594487e-06,  2.03007910e-05,\n",
       "         5.62119699e-06,  6.66425231e-05, -8.70592360e-09,\n",
       "        -8.38424110e-09, -2.86488348e-04, -4.96315156e-04,\n",
       "         2.24188655e-04,  9.90859496e-01,  1.19590255e-03,\n",
       "         1.33912850e-02,  0.00000000e+00, -2.47457204e-02,\n",
       "        -1.31924097e-01],\n",
       "       [-2.64287768e-08,  1.76055698e-07, -1.42505872e-05,\n",
       "         2.55118163e-07,  9.28743198e-06,  1.94259736e-09,\n",
       "         2.57469196e-09,  3.89831030e-05, -1.11401868e-04,\n",
       "         3.78090089e-05,  9.96784408e-03, -3.31467258e-03,\n",
       "         1.67142788e-01, -8.32667268e-17,  9.81545571e-01,\n",
       "        -9.23104572e-02],\n",
       "       [-4.93235555e-08, -1.11792517e-07,  3.27065488e-06,\n",
       "        -1.42772408e-07,  2.06950170e-06, -3.56560475e-11,\n",
       "        -1.31581849e-10,  1.73346505e-04,  1.75824581e-04,\n",
       "        -4.71532237e-05, -1.90621627e-02,  1.72895477e-04,\n",
       "         9.85417671e-01,  0.00000000e+00, -1.68689770e-01,\n",
       "        -1.15028774e-02],\n",
       "       [-0.00000000e+00, -1.34787841e-23,  6.95125875e-22,\n",
       "         1.57015711e-23, -3.64800740e-23, -1.20089336e-25,\n",
       "        -1.44651139e-25, -1.65643437e-21,  3.38855866e-21,\n",
       "        -7.89276063e-22,  4.26027971e-18,  1.35553576e-19,\n",
       "         1.95019663e-18, -1.00000000e+00, -4.12581140e-17,\n",
       "         3.02214201e-18]])"
      ]
     },
     "execution_count": 230,
     "metadata": {},
     "output_type": "execute_result"
    }
   ],
   "source": [
    "pca.components_"
   ]
  },
  {
   "cell_type": "code",
   "execution_count": 232,
   "metadata": {},
   "outputs": [
    {
     "data": {
      "image/png": "[encoded data removed]",
      "text/plain": [
       "<Figure size 432x288 with 1 Axes>"
      ]
     },
     "metadata": {},
     "output_type": "display_data"
    }
   ],
   "source": [
    "plt.plot(np.cumsum(pca.explained_variance_ratio_))\n",
    "plt.xlabel('number of components')\n",
    "plt.ylabel('cumulative explained variance');"
   ]
  },
  {
   "cell_type": "code",
   "execution_count": 233,
   "metadata": {},
   "outputs": [
    {
     "data": {
      "text/plain": [
       "array([9.63329422e-01, 3.63725909e-02, 2.97589525e-04, 3.62268474e-07,\n",
       "       3.50582806e-08, 2.85488047e-10, 8.97550980e-11, 7.49635350e-11,\n",
       "       8.06476457e-13, 1.78559626e-13, 5.62102561e-14, 1.95413350e-14,\n",
       "       3.15328589e-15, 1.24755366e-15, 1.61272574e-16, 8.38904969e-51])"
      ]
     },
     "execution_count": 233,
     "metadata": {},
     "output_type": "execute_result"
    }
   ],
   "source": [
    "pca.explained_variance_ratio_"
   ]
  },
  {
   "cell_type": "code",
   "execution_count": 234,
   "metadata": {},
   "outputs": [
    {
     "data": {
      "text/plain": [
       "array([9.12160129e-03, 3.44405833e-04, 2.81782423e-06, 3.43025813e-09,\n",
       "       3.31960854e-10, 2.70323742e-12, 8.49875649e-13, 7.09816873e-13,\n",
       "       7.63638743e-15, 1.69075052e-15, 5.32245287e-16, 1.85033554e-16,\n",
       "       2.98579239e-17, 1.18128719e-17, 1.52706238e-18, 7.94344746e-53])"
      ]
     },
     "execution_count": 234,
     "metadata": {},
     "output_type": "execute_result"
    }
   ],
   "source": [
    "pca.explained_variance_"
   ]
  },
  {
   "cell_type": "code",
   "execution_count": 235,
   "metadata": {},
   "outputs": [
    {
     "data": {
      "text/plain": [
       "array([2.91726824e+00, 5.66860337e-01, 5.12740676e-02, 1.78897480e-03,\n",
       "       5.56524462e-04, 5.02207179e-05, 2.81590834e-05, 2.57343961e-05,\n",
       "       2.66922263e-06, 1.25597382e-06, 7.04687770e-07, 4.15495254e-07,\n",
       "       1.66905491e-07, 1.04982901e-07, 3.77458501e-08, 2.72235862e-25])"
      ]
     },
     "execution_count": 235,
     "metadata": {},
     "output_type": "execute_result"
    }
   ],
   "source": [
    "pca.singular_values_"
   ]
  },
  {
   "cell_type": "code",
   "execution_count": 236,
   "metadata": {},
   "outputs": [
    {
     "data": {
      "text/plain": [
       "16"
      ]
     },
     "execution_count": 236,
     "metadata": {},
     "output_type": "execute_result"
    }
   ],
   "source": [
    "pca.n_components_"
   ]
  },
  {
   "cell_type": "code",
   "execution_count": null,
   "metadata": {},
   "outputs": [],
   "source": []
  }
 ],
 "metadata": {
  "kernelspec": {
   "display_name": "Python 3",
   "language": "python",
   "name": "python3"
  },
  "language_info": {
   "codemirror_mode": {
    "name": "ipython",
    "version": 3
   },
   "file_extension": ".py",
   "mimetype": "text/x-python",
   "name": "python",
   "nbconvert_exporter": "python",
   "pygments_lexer": "ipython3",
   "version": "3.6.5"
  }
 },
 "nbformat": 4,
 "nbformat_minor": 2
}
